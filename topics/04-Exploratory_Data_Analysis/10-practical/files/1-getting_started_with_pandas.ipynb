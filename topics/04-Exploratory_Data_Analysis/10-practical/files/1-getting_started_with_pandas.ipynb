{
  "cells": [
    {
      "cell_type": "markdown",
      "id": "f5078ef9",
      "metadata": {
        "editable": true,
        "slideshow": {
          "slide_type": "skip"
        }
      },
      "source": [
        "[![Binder](https://mybinder.org/badge_logo.svg)](https://mybinder.org/v2/gh/stefmolin/pandas-workshop/main?urlpath=lab/tree/notebooks/1-getting_started_with_pandas.ipynb) [![View slides in browser](https://img.shields.io/badge/view-slides-orange?logo=reveal.js&logoColor=white)](https://stefaniemolin.com/pandas-workshop/#/section-1)\n",
        "\n",
        "---\n",
        "\n"
      ]
    },
    {
      "cell_type": "markdown",
      "id": "bd3fabd4",
      "metadata": {
        "slideshow": {
          "slide_type": "slide"
        }
      },
      "source": [
        "# Section 1: Getting Started With Pandas\n",
        "\n",
        "We will begin by introducing the `Series`, `DataFrame`, and `Index` classes, which are the basic building blocks of the pandas library, and showing how to work with them. By the end of this section, you will be able to create DataFrames and perform operations on them to inspect and filter the data."
      ]
    },
    {
      "cell_type": "markdown",
      "id": "47ec9ef8",
      "metadata": {
        "editable": true,
        "slideshow": {
          "slide_type": "slide"
        }
      },
      "source": [
        "## Anatomy of a DataFrame\n",
        "\n",
        "A **DataFrame** is composed of one or more **Series**. The names of the **Series** form the column names, and the row labels form the **Index**."
      ]
    },
    {
      "cell_type": "code",
      "execution_count": null,
      "id": "265d13f4",
      "metadata": {
        "editable": true,
        "slideshow": {
          "slide_type": ""
        }
      },
      "outputs": [],
      "source": [
        "import pandas as pd\n",
        "\n",
        "meteorites = pd.read_csv('data/Meteorite_Landings.csv', nrows=5)\n",
        "meteorites"
      ]
    },
    {
      "cell_type": "markdown",
      "id": "142ea1c7",
      "metadata": {
        "editable": true,
        "slideshow": {
          "slide_type": ""
        }
      },
      "source": [
        "*Source: [NASA's Open Data Portal](https://data.nasa.gov/dataset/meteorite-landings)*"
      ]
    },
    {
      "cell_type": "markdown",
      "id": "56216b00",
      "metadata": {
        "editable": true,
        "slideshow": {
          "slide_type": "subslide"
        }
      },
      "source": [
        "#### Series:"
      ]
    },
    {
      "cell_type": "code",
      "execution_count": null,
      "id": "0410148d",
      "metadata": {
        "editable": true,
        "slideshow": {
          "slide_type": ""
        }
      },
      "outputs": [],
      "source": [
        "meteorites.name"
      ]
    },
    {
      "cell_type": "markdown",
      "id": "11f953fe",
      "metadata": {
        "editable": true,
        "slideshow": {
          "slide_type": "subslide"
        }
      },
      "source": [
        "#### Columns:"
      ]
    },
    {
      "cell_type": "code",
      "execution_count": null,
      "id": "023dbd23",
      "metadata": {
        "editable": true,
        "slideshow": {
          "slide_type": ""
        }
      },
      "outputs": [],
      "source": [
        "meteorites.columns"
      ]
    },
    {
      "cell_type": "markdown",
      "id": "fa7bb189",
      "metadata": {
        "editable": true,
        "slideshow": {
          "slide_type": "fragment"
        }
      },
      "source": [
        "#### Index:"
      ]
    },
    {
      "cell_type": "code",
      "execution_count": null,
      "id": "f536435d",
      "metadata": {
        "editable": true,
        "slideshow": {
          "slide_type": ""
        }
      },
      "outputs": [],
      "source": [
        "meteorites.index"
      ]
    },
    {
      "cell_type": "markdown",
      "id": "af4d1c39",
      "metadata": {
        "editable": true,
        "slideshow": {
          "slide_type": "slide"
        }
      },
      "source": [
        "## Creating DataFrames\n",
        "\n",
        "We can create DataFrames from a variety of sources such as other Python objects, flat files, webscraping, and API requests. Here, we will see just a couple of examples, but be sure to check out [this page](https://pandas.pydata.org/pandas-docs/stable/user_guide/io.html) in the documentation for a complete list."
      ]
    },
    {
      "cell_type": "markdown",
      "id": "add055c9",
      "metadata": {
        "editable": true,
        "slideshow": {
          "slide_type": "subslide"
        }
      },
      "source": [
        "### Using a flat file"
      ]
    },
    {
      "cell_type": "code",
      "execution_count": null,
      "id": "347b9c94",
      "metadata": {
        "editable": true,
        "slideshow": {
          "slide_type": ""
        }
      },
      "outputs": [],
      "source": [
        "import pandas as pd\n",
        "\n",
        "meteorites = pd.read_csv('data/Meteorite_Landings.csv')"
      ]
    },
    {
      "cell_type": "markdown",
      "id": "7f33c8c7",
      "metadata": {
        "editable": true,
        "slideshow": {
          "slide_type": "fragment"
        }
      },
      "source": [
        "*Tip: There are many parameters to this function to handle some initial processing while reading in the file &ndash; be sure check out the [documentation](https://pandas.pydata.org/docs/reference/api/pandas.read_csv.html).*"
      ]
    },
    {
      "cell_type": "markdown",
      "id": "d736e776",
      "metadata": {
        "editable": true,
        "slideshow": {
          "slide_type": "subslide"
        }
      },
      "source": [
        "### Using data from an API\n",
        "\n",
        "Collect the data from [NASA's Open Data Portal](https://data.nasa.gov/dataset/meteorite-landings-api/resource/a2365f19-c949-4e70-ba13-e5b6a146fc19) using the Socrata Open Data API (SODA) with the `requests` library:"
      ]
    },
    {
      "cell_type": "code",
      "execution_count": null,
      "id": "8ad22d57",
      "metadata": {
        "editable": true,
        "slideshow": {
          "slide_type": ""
        }
      },
      "outputs": [],
      "source": [
        "import requests\n",
        "\n",
        "response = requests.get(\n",
        "    'https://data.nasa.gov/docs/legacy/meteorite_landings/gh4g-9sfh.json',\n",
        "    params={'$limit': 50_000}\n",
        ")\n",
        "\n",
        "if response.ok:\n",
        "    payload = response.json()\n",
        "else:\n",
        "    print(f'Request was not successful and returned code: {response.status_code}.')\n",
        "    payload = None"
      ]
    },
    {
      "cell_type": "markdown",
      "id": "d4837004",
      "metadata": {
        "editable": true,
        "slideshow": {
          "slide_type": "subslide"
        }
      },
      "source": [
        "Create the DataFrame with the resulting payload:"
      ]
    },
    {
      "cell_type": "code",
      "execution_count": null,
      "id": "91e42a2b",
      "metadata": {
        "editable": true,
        "slideshow": {
          "slide_type": ""
        }
      },
      "outputs": [],
      "source": [
        "import pandas as pd\n",
        "\n",
        "df = pd.DataFrame(payload)\n",
        "df.head(3)"
      ]
    },
    {
      "cell_type": "markdown",
      "id": "dbc73853",
      "metadata": {
        "editable": true,
        "slideshow": {
          "slide_type": "fragment"
        }
      },
      "source": [
        "*Tip: `df.to_csv('data.csv')` writes this data to a new file called `data.csv`.*"
      ]
    },
    {
      "cell_type": "markdown",
      "id": "f6e55493",
      "metadata": {
        "editable": true,
        "slideshow": {
          "slide_type": "slide"
        }
      },
      "source": [
        "## Inspecting the data\n",
        "Now that we have some data, we need to perform an initial inspection of it. This gives us information on what the data looks like, how many rows/columns there are, and how much data we have. "
      ]
    },
    {
      "cell_type": "markdown",
      "id": "181eec2b",
      "metadata": {
        "editable": true,
        "slideshow": {
          "slide_type": "fragment"
        }
      },
      "source": [
        "Let's inspect the `meteorites` data."
      ]
    },
    {
      "cell_type": "markdown",
      "id": "72814bd0",
      "metadata": {
        "editable": true,
        "slideshow": {
          "slide_type": "subslide"
        }
      },
      "source": [
        "#### How many rows and columns are there?"
      ]
    },
    {
      "cell_type": "code",
      "execution_count": null,
      "id": "adfa2ce4",
      "metadata": {
        "editable": true,
        "slideshow": {
          "slide_type": ""
        }
      },
      "outputs": [],
      "source": [
        "meteorites.shape"
      ]
    },
    {
      "cell_type": "markdown",
      "id": "e34d25b4",
      "metadata": {
        "editable": true,
        "slideshow": {
          "slide_type": "fragment"
        }
      },
      "source": [
        "#### What are the column names?"
      ]
    },
    {
      "cell_type": "code",
      "execution_count": null,
      "id": "98ec6719",
      "metadata": {
        "editable": true,
        "slideshow": {
          "slide_type": ""
        }
      },
      "outputs": [],
      "source": [
        "meteorites.columns"
      ]
    },
    {
      "cell_type": "markdown",
      "id": "cf3467f3",
      "metadata": {
        "editable": true,
        "slideshow": {
          "slide_type": "subslide"
        }
      },
      "source": [
        "#### What type of data does each column currently hold?"
      ]
    },
    {
      "cell_type": "code",
      "execution_count": null,
      "id": "af4c9e25",
      "metadata": {
        "editable": true,
        "slideshow": {
          "slide_type": ""
        }
      },
      "outputs": [],
      "source": [
        "meteorites.dtypes"
      ]
    },
    {
      "cell_type": "markdown",
      "id": "cc0daa6f",
      "metadata": {
        "editable": true,
        "slideshow": {
          "slide_type": "subslide"
        }
      },
      "source": [
        "#### What does the data look like?"
      ]
    },
    {
      "cell_type": "code",
      "execution_count": null,
      "id": "416e4480",
      "metadata": {
        "editable": true,
        "slideshow": {
          "slide_type": ""
        }
      },
      "outputs": [],
      "source": [
        "meteorites.head()"
      ]
    },
    {
      "cell_type": "markdown",
      "id": "22ab373a",
      "metadata": {
        "editable": true,
        "slideshow": {
          "slide_type": "subslide"
        }
      },
      "source": [
        "Sometimes there may be extraneous data at the end of the file, so checking the bottom few rows is also important:"
      ]
    },
    {
      "cell_type": "code",
      "execution_count": null,
      "id": "aa8a3752",
      "metadata": {
        "editable": true,
        "slideshow": {
          "slide_type": ""
        }
      },
      "outputs": [],
      "source": [
        "meteorites.tail()"
      ]
    },
    {
      "cell_type": "markdown",
      "id": "42a1313b",
      "metadata": {
        "editable": true,
        "slideshow": {
          "slide_type": "subslide"
        }
      },
      "source": [
        "#### Get some information about the DataFrame"
      ]
    },
    {
      "cell_type": "code",
      "execution_count": null,
      "id": "c5fa7408",
      "metadata": {
        "editable": true,
        "slideshow": {
          "slide_type": ""
        }
      },
      "outputs": [],
      "source": [
        "meteorites.info()"
      ]
    },
    {
      "cell_type": "markdown",
      "id": "c5abfa89",
      "metadata": {
        "editable": true,
        "slideshow": {
          "slide_type": ""
        }
      },
      "source": [
        "### [Exercise 1.1](./workbook.ipynb#Exercise-1.1)\n",
        "\n",
        "##### Create a DataFrame by reading in the `2019_Yellow_Taxi_Trip_Data.csv` file. Examine the first 5 rows."
      ]
    },
    {
      "cell_type": "code",
      "execution_count": null,
      "id": "0941a0df",
      "metadata": {
        "editable": true,
        "slideshow": {
          "slide_type": ""
        }
      },
      "outputs": [],
      "source": [
        "# Complete this exercise in the workbook.ipynb file\n",
        "# Click on `Exercise 1.1` above to open the workbook.ipynb file\n",
        "\n",
        "# WARNING: if you complete the exercise here, your cell numbers\n",
        "# for the rest of the training might not match the slides"
      ]
    },
    {
      "cell_type": "markdown",
      "id": "771ecdeb",
      "metadata": {
        "editable": true,
        "slideshow": {
          "slide_type": ""
        }
      },
      "source": [
        "### [Exercise 1.2](./workbook.ipynb#Exercise-1.2)\n",
        "\n",
        "##### Find the dimensions (number of rows and number of columns) in the data."
      ]
    },
    {
      "cell_type": "code",
      "execution_count": null,
      "id": "f98d33a8",
      "metadata": {
        "editable": true,
        "slideshow": {
          "slide_type": ""
        }
      },
      "outputs": [],
      "source": [
        "# Complete this exercise in the workbook.ipynb file\n",
        "# Click on `Exercise 1.2` above to open the workbook.ipynb file\n",
        "\n",
        "# WARNING: if you complete the exercise here, your cell numbers\n",
        "# for the rest of the training might not match the slides"
      ]
    },
    {
      "cell_type": "markdown",
      "id": "6dc67498",
      "metadata": {
        "editable": true,
        "slideshow": {
          "slide_type": "slide"
        }
      },
      "source": [
        "## Extracting subsets\n",
        "\n",
        "A crucial part of working with DataFrames is extracting subsets of the data: finding rows that meet a certain set of criteria, isolating columns/rows of interest, etc. After narrowing down our data, we are closer to discovering insights. This section will be the backbone of many analysis tasks."
      ]
    },
    {
      "cell_type": "markdown",
      "id": "492e3bb9",
      "metadata": {
        "editable": true,
        "slideshow": {
          "slide_type": "subslide"
        }
      },
      "source": [
        "#### Selecting columns\n",
        "\n",
        "We can select columns as attributes if their names would be valid Python variables:"
      ]
    },
    {
      "cell_type": "code",
      "execution_count": null,
      "id": "61b690e7",
      "metadata": {
        "editable": true,
        "slideshow": {
          "slide_type": ""
        }
      },
      "outputs": [],
      "source": [
        "meteorites.name"
      ]
    },
    {
      "cell_type": "markdown",
      "id": "9c5038a0",
      "metadata": {
        "editable": true,
        "slideshow": {
          "slide_type": "subslide"
        }
      },
      "source": [
        "If they aren't, we have to select them as keys. However, we can select multiple columns at once this way:"
      ]
    },
    {
      "cell_type": "code",
      "execution_count": null,
      "id": "ae51159a",
      "metadata": {
        "editable": true,
        "slideshow": {
          "slide_type": ""
        }
      },
      "outputs": [],
      "source": [
        "meteorites[['name', 'mass (g)']]"
      ]
    },
    {
      "cell_type": "markdown",
      "id": "a78d5507",
      "metadata": {
        "editable": true,
        "slideshow": {
          "slide_type": "subslide"
        }
      },
      "source": [
        "#### Selecting rows"
      ]
    },
    {
      "cell_type": "code",
      "execution_count": null,
      "id": "0fe2e53d",
      "metadata": {
        "editable": true,
        "slideshow": {
          "slide_type": ""
        }
      },
      "outputs": [],
      "source": [
        "meteorites[100:104]"
      ]
    },
    {
      "cell_type": "markdown",
      "id": "25541a85",
      "metadata": {
        "editable": true,
        "slideshow": {
          "slide_type": "subslide"
        }
      },
      "source": [
        "#### Indexing\n",
        "\n",
        "We use `iloc[]` to select rows and columns by their position:"
      ]
    },
    {
      "cell_type": "code",
      "execution_count": null,
      "id": "e35abea2",
      "metadata": {
        "editable": true,
        "slideshow": {
          "slide_type": ""
        }
      },
      "outputs": [],
      "source": [
        "meteorites.iloc[100:104, [0, 3, 4, 6]]"
      ]
    },
    {
      "cell_type": "markdown",
      "id": "0990dd2d",
      "metadata": {
        "editable": true,
        "slideshow": {
          "slide_type": "fragment"
        }
      },
      "source": [
        "We use `loc[]` to select by name:"
      ]
    },
    {
      "cell_type": "code",
      "execution_count": null,
      "id": "87c5b388",
      "metadata": {
        "editable": true,
        "slideshow": {
          "slide_type": ""
        }
      },
      "outputs": [],
      "source": [
        "meteorites.loc[100:104, 'mass (g)':'year']"
      ]
    },
    {
      "cell_type": "markdown",
      "id": "92e8073d",
      "metadata": {
        "editable": true,
        "slideshow": {
          "slide_type": "subslide"
        }
      },
      "source": [
        "#### Filtering with Boolean masks\n",
        "\n",
        "A **Boolean mask** is a array-like structure of Boolean values &ndash; it's a way to specify which rows/columns we want to select (`True`) and which we don't (`False`)."
      ]
    },
    {
      "cell_type": "markdown",
      "id": "37234518",
      "metadata": {
        "editable": true,
        "slideshow": {
          "slide_type": "subslide"
        }
      },
      "source": [
        "Here's an example of a Boolean mask for meteorites weighing more than 50 grams that were found on Earth (i.e., they were not observed falling):"
      ]
    },
    {
      "cell_type": "code",
      "execution_count": null,
      "id": "cf12d5e8",
      "metadata": {
        "editable": true,
        "slideshow": {
          "slide_type": ""
        }
      },
      "outputs": [],
      "source": [
        "(meteorites['mass (g)'] > 50) & (meteorites.fall == 'Found')"
      ]
    },
    {
      "cell_type": "markdown",
      "id": "7fccb098",
      "metadata": {
        "editable": true,
        "slideshow": {
          "slide_type": "fragment"
        }
      },
      "source": [
        "**Important**: Take note of the syntax here. We surround each condition with parentheses, and we use bitwise operators (`&`, `|`, `~`) instead of logical operators (`and`, `or`, `not`)."
      ]
    },
    {
      "cell_type": "markdown",
      "id": "ff0c47ff",
      "metadata": {
        "editable": true,
        "slideshow": {
          "slide_type": "subslide"
        }
      },
      "source": [
        "We can use a Boolean mask to select the subset of meteorites weighing more than 1 million grams (1,000 kilograms or roughly 2,205 pounds) that were observed falling:"
      ]
    },
    {
      "cell_type": "code",
      "execution_count": null,
      "id": "0f3046a3",
      "metadata": {
        "editable": true,
        "slideshow": {
          "slide_type": ""
        }
      },
      "outputs": [],
      "source": [
        "meteorites[(meteorites['mass (g)'] > 1e6) & (meteorites.fall == 'Fell')]"
      ]
    },
    {
      "cell_type": "markdown",
      "id": "60411cc7",
      "metadata": {
        "editable": true,
        "slideshow": {
          "slide_type": "fragment"
        }
      },
      "source": [
        "*Tip: Boolean masks can be used with `loc[]` and `iloc[]`.*"
      ]
    },
    {
      "cell_type": "markdown",
      "id": "e651e6a8",
      "metadata": {
        "editable": true,
        "slideshow": {
          "slide_type": "subslide"
        }
      },
      "source": [
        "An alternative to this is the `query()` method:"
      ]
    },
    {
      "cell_type": "code",
      "execution_count": null,
      "id": "3440ee56",
      "metadata": {
        "editable": true,
        "slideshow": {
          "slide_type": ""
        }
      },
      "outputs": [],
      "source": [
        "meteorites.query(\"`mass (g)` > 1e6 and fall == 'Fell'\")"
      ]
    },
    {
      "cell_type": "markdown",
      "id": "aae3d7bc",
      "metadata": {
        "editable": true,
        "slideshow": {
          "slide_type": "fragment"
        }
      },
      "source": [
        "*Tip: Here, we can use both logical operators and bitwise operators.*"
      ]
    },
    {
      "cell_type": "markdown",
      "id": "2a13e2b2",
      "metadata": {
        "editable": true,
        "slideshow": {
          "slide_type": "slide"
        }
      },
      "source": [
        "## Calculating summary statistics\n",
        "\n",
        "In the next section of this workshop, we will discuss data cleaning for a more meaningful analysis of our datasets; however, we can already extract some interesting insights from the `meteorites` data by calculating summary statistics."
      ]
    },
    {
      "cell_type": "markdown",
      "id": "f1d002b2",
      "metadata": {
        "editable": true,
        "slideshow": {
          "slide_type": "subslide"
        }
      },
      "source": [
        "#### How many of the meteorites were found versus observed falling?"
      ]
    },
    {
      "cell_type": "code",
      "execution_count": null,
      "id": "bd98a59a",
      "metadata": {
        "editable": true,
        "slideshow": {
          "slide_type": ""
        }
      },
      "outputs": [],
      "source": [
        "meteorites.fall.value_counts()"
      ]
    },
    {
      "cell_type": "markdown",
      "id": "8cd64e38",
      "metadata": {
        "editable": true,
        "slideshow": {
          "slide_type": "subslide"
        }
      },
      "source": [
        "[The Meteoritical Society states](https://www.lpi.usra.edu/meteor/metbull.php?sea=Relict+OC&sfor=types&stype=exact) that a \"relict meteorite is dominantly composed of secondary minerals, and is thought to have once been a meteorite.\" What proportion of the data are relict meteorites? Let's verify these were all found versus observed falling:"
      ]
    },
    {
      "cell_type": "code",
      "execution_count": null,
      "id": "e52f41b9",
      "metadata": {
        "editable": true,
        "slideshow": {
          "slide_type": ""
        }
      },
      "outputs": [],
      "source": [
        "meteorites.value_counts(subset=['nametype', 'fall'], normalize=True)"
      ]
    },
    {
      "cell_type": "markdown",
      "id": "04343197",
      "metadata": {
        "editable": true,
        "slideshow": {
          "slide_type": "subslide"
        }
      },
      "source": [
        "#### What was the mass of the average meterorite?"
      ]
    },
    {
      "cell_type": "code",
      "execution_count": null,
      "id": "5a4fd024",
      "metadata": {
        "editable": true,
        "slideshow": {
          "slide_type": ""
        }
      },
      "outputs": [],
      "source": [
        "meteorites['mass (g)'].mean()"
      ]
    },
    {
      "cell_type": "markdown",
      "id": "f675ab30",
      "metadata": {
        "editable": true,
        "slideshow": {
          "slide_type": "fragment"
        }
      },
      "source": [
        "**Important**: The mean isn't always the best measure of central tendency. If there are outliers in the distribution, the mean will be skewed. Here, the mean is being pulled higher by some very heavy meteorites &ndash; the distribution is [right-skewed](https://www.analyticsvidhya.com/blog/2020/07/what-is-skewness-statistics/)."
      ]
    },
    {
      "cell_type": "markdown",
      "id": "6c3feeb7",
      "metadata": {
        "editable": true,
        "slideshow": {
          "slide_type": "subslide"
        }
      },
      "source": [
        "Taking a look at some quantiles at the extremes of the distribution shows that the mean is between the 95th and 99th percentile of the distribution, so it isn't a good measure of central tendency here:"
      ]
    },
    {
      "cell_type": "code",
      "execution_count": null,
      "id": "26ade585",
      "metadata": {
        "editable": true,
        "slideshow": {
          "slide_type": ""
        }
      },
      "outputs": [],
      "source": [
        "meteorites['mass (g)'].quantile([0.01, 0.05, 0.5, 0.95, 0.99])"
      ]
    },
    {
      "cell_type": "markdown",
      "id": "597a3cc4",
      "metadata": {
        "editable": true,
        "slideshow": {
          "slide_type": "fragment"
        }
      },
      "source": [
        "A better measure in this case is the median (50th percentile), since it is robust to outliers:"
      ]
    },
    {
      "cell_type": "code",
      "execution_count": null,
      "id": "c05e2b33",
      "metadata": {
        "editable": true,
        "slideshow": {
          "slide_type": ""
        }
      },
      "outputs": [],
      "source": [
        "meteorites['mass (g)'].median()"
      ]
    },
    {
      "cell_type": "markdown",
      "id": "a3891616",
      "metadata": {
        "editable": true,
        "slideshow": {
          "slide_type": "subslide"
        }
      },
      "source": [
        "#### What was the mass of the heaviest meteorite?"
      ]
    },
    {
      "cell_type": "code",
      "execution_count": null,
      "id": "f555b372",
      "metadata": {
        "editable": true,
        "slideshow": {
          "slide_type": ""
        }
      },
      "outputs": [],
      "source": [
        "meteorites['mass (g)'].max()"
      ]
    },
    {
      "cell_type": "markdown",
      "id": "f32fe552",
      "metadata": {
        "editable": true,
        "slideshow": {
          "slide_type": "fragment"
        }
      },
      "source": [
        "Let's extract the information on this meteorite:"
      ]
    },
    {
      "cell_type": "code",
      "execution_count": null,
      "id": "ed953478",
      "metadata": {
        "editable": true,
        "slideshow": {
          "slide_type": ""
        }
      },
      "outputs": [],
      "source": [
        "meteorites.loc[meteorites['mass (g)'].idxmax()]"
      ]
    },
    {
      "cell_type": "markdown",
      "id": "2772e98f",
      "metadata": {
        "editable": true,
        "slideshow": {
          "slide_type": "subslide"
        }
      },
      "source": [
        "#### How many different types of meteorite classes are represented in this dataset?"
      ]
    },
    {
      "cell_type": "code",
      "execution_count": null,
      "id": "cb11b01e",
      "metadata": {
        "editable": true,
        "slideshow": {
          "slide_type": ""
        }
      },
      "outputs": [],
      "source": [
        "meteorites.recclass.nunique()"
      ]
    },
    {
      "cell_type": "markdown",
      "id": "b6bb04d7",
      "metadata": {
        "editable": true,
        "slideshow": {
          "slide_type": "fragment"
        }
      },
      "source": [
        "Some examples:"
      ]
    },
    {
      "cell_type": "code",
      "execution_count": null,
      "id": "da9b2a7b",
      "metadata": {
        "editable": true,
        "slideshow": {
          "slide_type": ""
        }
      },
      "outputs": [],
      "source": [
        "meteorites.recclass.unique()[:14]"
      ]
    },
    {
      "cell_type": "markdown",
      "id": "0028e937",
      "metadata": {
        "editable": true,
        "slideshow": {
          "slide_type": ""
        }
      },
      "source": [
        "*Note: All fields preceded with \"rec\" are the values recommended by The Meteoritical Society. Check out [this Wikipedia article](https://en.wikipedia.org/wiki/Meteorite_classification) for some information on meteorite classes.*"
      ]
    },
    {
      "cell_type": "markdown",
      "id": "c74b73e7",
      "metadata": {
        "editable": true,
        "slideshow": {
          "slide_type": "subslide"
        }
      },
      "source": [
        "#### Get some summary statistics on the data itself\n",
        "We can get common summary statistics for all columns at once. By default, this will only be numeric columns, but here, we will summarize everything together:"
      ]
    },
    {
      "cell_type": "code",
      "execution_count": null,
      "id": "045c4814",
      "metadata": {
        "editable": true,
        "slideshow": {
          "slide_type": ""
        }
      },
      "outputs": [],
      "source": [
        "meteorites.describe(include='all')"
      ]
    },
    {
      "cell_type": "markdown",
      "id": "df6fc83e",
      "metadata": {
        "editable": true,
        "slideshow": {
          "slide_type": ""
        }
      },
      "source": [
        "**Important**: `NaN` values signify missing data. For instance, the `fall` column contains strings, so there is no value for `mean`; likewise, `mass (g)` is numeric, so we don't have entries for the categorical summary statistics (`unique`, `top`, `freq`)."
      ]
    },
    {
      "cell_type": "markdown",
      "id": "488859dc",
      "metadata": {
        "editable": true,
        "slideshow": {
          "slide_type": "subslide"
        }
      },
      "source": [
        "#### Check out the documentation for more descriptive statistics:\n",
        "\n",
        "- [Series](https://pandas.pydata.org/docs/reference/series.html#computations-descriptive-stats)\n",
        "- [DataFrame](https://pandas.pydata.org/docs/reference/frame.html#computations-descriptive-stats)"
      ]
    },
    {
      "cell_type": "markdown",
      "id": "d3ba674e",
      "metadata": {
        "editable": true,
        "slideshow": {
          "slide_type": ""
        }
      },
      "source": [
        "### [Exercise 1.3](./workbook.ipynb#Exercise-1.3)\n",
        "\n",
        "##### Using the data in the `2019_Yellow_Taxi_Trip_Data.csv` file, calculate summary statistics for the `fare_amount`, `tip_amount`, `tolls_amount`, and `total_amount` columns."
      ]
    },
    {
      "cell_type": "code",
      "execution_count": null,
      "id": "88aa0e1d",
      "metadata": {
        "editable": true,
        "slideshow": {
          "slide_type": ""
        }
      },
      "outputs": [],
      "source": [
        "# Complete this exercise in the workbook.ipynb file\n",
        "# Click on `Exercise 1.3` above to open the workbook.ipynb file"
      ]
    },
    {
      "cell_type": "markdown",
      "id": "be56d616",
      "metadata": {
        "editable": true,
        "slideshow": {
          "slide_type": ""
        }
      },
      "source": [
        "### [Exercise 1.4](./workbook.ipynb#Exercise-1.4)\n",
        "\n",
        "##### Isolate the `fare_amount`, `tip_amount`, `tolls_amount`, and `total_amount` for the longest trip by distance (`trip_distance`)."
      ]
    },
    {
      "cell_type": "code",
      "execution_count": null,
      "id": "4e3735f0",
      "metadata": {
        "editable": true,
        "slideshow": {
          "slide_type": ""
        }
      },
      "outputs": [],
      "source": [
        "# Complete this exercise in the workbook.ipynb file\n",
        "# Click on `Exercise 1.4` above to open the workbook.ipynb file"
      ]
    },
    {
      "cell_type": "markdown",
      "id": "1158162e",
      "metadata": {
        "editable": true,
        "slideshow": {
          "slide_type": ""
        }
      },
      "source": [
        "## Up Next: [Data Wrangling](./2-data_wrangling.ipynb)"
      ]
    }
  ],
  "metadata": {
    "kernelspec": {
      "display_name": "Python 3 (ipykernel)",
      "language": "python",
      "name": "python3"
    }
  },
  "nbformat": 4,
  "nbformat_minor": 5
}
