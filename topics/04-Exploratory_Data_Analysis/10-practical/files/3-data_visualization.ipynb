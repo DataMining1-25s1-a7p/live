{
  "cells": [
    {
      "cell_type": "markdown",
      "id": "2997d940",
      "metadata": {
        "slideshow": {
          "slide_type": "skip"
        }
      },
      "source": [
        "[![Binder](https://mybinder.org/badge_logo.svg)](https://mybinder.org/v2/gh/stefmolin/pandas-workshop/main?urlpath=lab/tree/notebooks/3-data_visualization.ipynb) [![View slides in browser](https://img.shields.io/badge/view-slides-orange?logo=reveal.js&logoColor=white)](https://stefaniemolin.com/pandas-workshop/#/section-3)\n",
        "\n",
        "---\n",
        "\n",
        "\n"
      ]
    },
    {
      "cell_type": "markdown",
      "id": "e12b3f02",
      "metadata": {
        "slideshow": {
          "slide_type": "slide"
        }
      },
      "source": [
        "# Section 3: Data Visualization\n",
        "\n",
        "The human brain excels at finding patterns in visual representations of the data; so in this section, we will learn how to visualize data using pandas along with the Matplotlib and Seaborn libraries for additional features. We will create a variety of visualizations that will help us better understand our data."
      ]
    },
    {
      "cell_type": "markdown",
      "id": "ec194efb",
      "metadata": {
        "slideshow": {
          "slide_type": "slide"
        }
      },
      "source": [
        "## Why is data visualization necessary?\n",
        "\n",
        "So far, we have focused a lot on summarizing the data using statistics. However, summary statistics are not enough to understand the distribution &ndash; there are many possible distributions for a given set of summary statistics. Data visualization is necessary to truly understand the distribution:\n",
        "\n",
        "<div style=\"text-align: center; margin-top: -10px;\">\n",
        "<img width=\"50%\" src=\"https://raw.githubusercontent.com/stefmolin/data-morph/main/docs/_static/panda-to-star-eased.gif\" alt=\"Data Morph: panda to star\" style=\"min-width: 300px; margin-bottom: -10px;\"/>\n",
        "<div style=\"margin: auto 26%;\"><small><em>A set of points forming a panda can also form a star without any significant changes to the summary statistics displayed above. (source: <a href=\"https://stefaniemolin.com/data-morph/stable/index.html\">Data Morph</a>)</em></small></div>\n",
        "</div>"
      ]
    },
    {
      "cell_type": "markdown",
      "id": "37c12708",
      "metadata": {
        "slideshow": {
          "slide_type": "slide"
        }
      },
      "source": [
        "## Plotting with pandas\n",
        "\n",
        "We can create a variety of visualizations using the `plot()` method. In this section, we will take a brief tour of some of this functionality, which under the hood uses Matplotlib."
      ]
    },
    {
      "cell_type": "markdown",
      "id": "eabaf831",
      "metadata": {
        "slideshow": {
          "slide_type": "subslide"
        }
      },
      "source": [
        "Once again, we will be working with the TSA traveler throughput data that we cleaned up in the previous section:"
      ]
    },
    {
      "cell_type": "code",
      "execution_count": null,
      "id": "15b85a2f",
      "metadata": {},
      "outputs": [],
      "source": [
        "import pandas as pd\n",
        "\n",
        "tsa_melted_holiday_travel = pd.read_csv(\n",
        "    'data/tsa_melted_holiday_travel.csv',\n",
        "    parse_dates=True, index_col='date'\n",
        ")\n",
        "tsa_melted_holiday_travel.head()"
      ]
    },
    {
      "cell_type": "markdown",
      "id": "c48f5c94",
      "metadata": {
        "slideshow": {
          "slide_type": "fragment"
        }
      },
      "source": [
        "To embed SVG-format plots in the notebook, we will configure the Matplotlib plotting backend to generate SVG output (first argument) with custom metadata (second argument):"
      ]
    },
    {
      "cell_type": "code",
      "execution_count": null,
      "id": "fc7191c5",
      "metadata": {},
      "outputs": [],
      "source": [
        "import matplotlib_inline\n",
        "from utils import mpl_svg_config\n",
        "\n",
        "matplotlib_inline.backend_inline.set_matplotlib_formats(\n",
        "    'svg', # output images using SVG format\n",
        "    **mpl_svg_config('section-3') # optional: configure metadata\n",
        ")"
      ]
    },
    {
      "cell_type": "markdown",
      "id": "d3b75098",
      "metadata": {},
      "source": [
        "*Note: The second argument is optional and is used here to make the SVG output reproducible by setting the `hashsalt` along with some metadata, which will be used by Matplotlib when generating any SVG output (see the `utils.py` file for more details). Without this argument, different runs of the same plotting code will generate plots that are visually identical, but differ at the HTML level due to different IDs, metadata, etc.*"
      ]
    },
    {
      "cell_type": "markdown",
      "id": "7935f857",
      "metadata": {
        "slideshow": {
          "slide_type": "subslide"
        }
      },
      "source": [
        "### Line plots\n",
        "\n",
        "Let's continue with the example of rolling and expanding calculations:"
      ]
    },
    {
      "cell_type": "code",
      "execution_count": null,
      "id": "f507dd40",
      "metadata": {
        "editable": true,
        "slideshow": {
          "slide_type": ""
        }
      },
      "outputs": [],
      "source": [
        "plot_data = tsa_melted_holiday_travel.drop(columns='year').loc['2020'].assign(\n",
        "    **{\n",
        "        '7D MA': lambda x: x.travelers.rolling('7D').mean(),\n",
        "        'YTD mean': lambda x: x.travelers.expanding().mean()\n",
        "      }\n",
        ")\n",
        "plot_data.head()"
      ]
    },
    {
      "cell_type": "markdown",
      "id": "8427d5fa",
      "metadata": {
        "editable": true,
        "slideshow": {
          "slide_type": "subslide"
        }
      },
      "source": [
        "The `plot()` method will generate line plots for all numeric columns by default:"
      ]
    },
    {
      "cell_type": "code",
      "execution_count": null,
      "id": "187917d5",
      "metadata": {
        "editable": true,
        "slideshow": {
          "slide_type": ""
        }
      },
      "outputs": [],
      "source": [
        "plot_data.plot(title='2020 TSA Traveler Throughput', ylabel='travelers', alpha=0.8)"
      ]
    },
    {
      "cell_type": "markdown",
      "id": "fb2d9ae7",
      "metadata": {
        "slideshow": {
          "slide_type": "subslide"
        }
      },
      "source": [
        "The `plot()` method returns an `Axes` object that can be modified further (e.g., to add reference lines, annotations, labels, etc.). Let's walk through an example."
      ]
    },
    {
      "cell_type": "markdown",
      "id": "783001f4",
      "metadata": {
        "slideshow": {
          "slide_type": "subslide"
        }
      },
      "source": [
        "### Bar plots\n",
        "\n",
        "For our next example, we will plot vertical bars to compare monthly TSA traveler throughput across years. Let's start by creating a pivot table with the information we need:"
      ]
    },
    {
      "cell_type": "code",
      "execution_count": null,
      "id": "acab35b3",
      "metadata": {},
      "outputs": [],
      "source": [
        "plot_data = tsa_melted_holiday_travel['2019':'2021-04']\\\n",
        "    .assign(month=lambda x: x.index.month)\\\n",
        "    .pivot_table(index='month', columns='year', values='travelers', aggfunc='sum')\n",
        "plot_data.head()"
      ]
    },
    {
      "cell_type": "markdown",
      "id": "51e38e82",
      "metadata": {
        "slideshow": {
          "slide_type": "subslide"
        }
      },
      "source": [
        "Pandas offers other plot types via the `kind` parameter, so we specify `kind='bar'` when calling the `plot()` method. Then, we further format the visualization using the `Axes` object returned by the `plot()` method:"
      ]
    },
    {
      "cell_type": "code",
      "execution_count": null,
      "id": "c9a70224",
      "metadata": {},
      "outputs": [],
      "source": [
        "import calendar\n",
        "from matplotlib import ticker\n",
        "\n",
        "ax = plot_data.plot(\n",
        "    kind='bar', rot=0, xlabel='', ylabel='travelers',\n",
        "    figsize=(8, 1.5), title='TSA Monthly Traveler Throughput'\n",
        ")\n",
        "\n",
        "# use month abbreviations for the ticks on the x-axis\n",
        "ax.set_xticklabels(calendar.month_abbr[1:])\n",
        "\n",
        "# show y-axis labels in millions instead of scientific notation\n",
        "ax.yaxis.set_major_formatter(ticker.EngFormatter())\n",
        "\n",
        "# customize the legend\n",
        "ax.legend(title='', loc='center', bbox_to_anchor=(0.5, -0.3), ncols=3, frameon=False)"
      ]
    },
    {
      "cell_type": "markdown",
      "id": "255b8af8",
      "metadata": {
        "slideshow": {
          "slide_type": "subslide"
        }
      },
      "source": [
        "Some additional things to keep in mind:\n",
        "- Matplotlib's `ticker` module provides functionality for customizing both the tick labels and locations &ndash; check out the [documentation](https://matplotlib.org/stable/api/ticker_api.html) for more information.\n",
        "- Pandas supports horizontal and stacked bars as well; [this article](https://stefaniemolin.com/articles/data-science/how-to-pivot-and-plot-data-with-pandas/) shows how to make stacked horizontal bars using a pivot table.\n",
        "- The `plot()` method takes a lot of [parameters](https://pandas.pydata.org/pandas-docs/stable/reference/api/pandas.DataFrame.plot.html), many of which get passed down to Matplotlib; however, sometimes we need to use Matplotlib calls directly."
      ]
    },
    {
      "cell_type": "markdown",
      "id": "593d4d1c",
      "metadata": {
        "slideshow": {
          "slide_type": "subslide"
        }
      },
      "source": [
        "### Plotting distributions\n",
        "\n",
        "Let's now compare the distribution of daily TSA traveler throughput across years. We will create a subplot for each year with both a histogram and a kernel density estimate (KDE) of the distribution.  Pandas has generated the `Figure` and `Axes` objects for both examples so far, but we can build custom layouts by creating them ourselves with Matplotlib using the `plt.subplots()` function. First, we will need to import the `pyplot` module:"
      ]
    },
    {
      "cell_type": "code",
      "execution_count": null,
      "id": "7887f1a4",
      "metadata": {},
      "outputs": [],
      "source": [
        "import matplotlib.pyplot as plt"
      ]
    },
    {
      "cell_type": "markdown",
      "id": "27127469",
      "metadata": {
        "slideshow": {
          "slide_type": "subslide"
        }
      },
      "source": [
        "While pandas lets us specify that we want subplots and their layout (with the `subplots` and `layout` parameters, respectively), using Matplotlib to create the subplots directly gives us additional flexibility:"
      ]
    },
    {
      "cell_type": "code",
      "execution_count": null,
      "id": "fae7a809",
      "metadata": {},
      "outputs": [],
      "source": [
        "# define the subplot layout\n",
        "fig, axes = plt.subplots(3, 1, sharex=True, sharey=True, figsize=(6, 4))\n",
        "\n",
        "for year, ax in zip(tsa_melted_holiday_travel.year.unique(), axes):\n",
        "    plot_data = tsa_melted_holiday_travel.loc[str(year)].travelers\n",
        "    plot_data.plot(kind='hist', legend=False, density=True, alpha=0.8, ax=ax)\n",
        "    plot_data.plot(kind='kde', legend=False, color='blue', ax=ax)\n",
        "    ax.set(title=f'{year} TSA Traveler Throughput', xlabel='travelers')\n",
        "\n",
        "fig.tight_layout() # handle overlaps"
      ]
    },
    {
      "cell_type": "markdown",
      "id": "4fc0492a",
      "metadata": {
        "editable": true,
        "slideshow": {
          "slide_type": "subslide"
        }
      },
      "source": [
        "*Tip: If you're new to the `zip()` function, check out [this article](https://realpython.com/python-zip-function/).*"
      ]
    },
    {
      "cell_type": "markdown",
      "id": "62173522",
      "metadata": {},
      "source": [
        "### [Exercise 3.1](./workbook.ipynb#Exercise-3.1)\n",
        "\n",
        "##### Using the TSA traveler throughput data in the `tsa_melted_holiday_travel.csv` file, create box plots for traveler throughput for each year in the data. Hint: Pass `kind='box'` into the `plot()` method to generate box plots."
      ]
    },
    {
      "cell_type": "code",
      "execution_count": null,
      "id": "5a318697",
      "metadata": {},
      "outputs": [],
      "source": [
        "# Complete this exercise in the workbook.ipynb file"
      ]
    },
    {
      "cell_type": "code",
      "execution_count": null,
      "id": "6d9430a9",
      "metadata": {},
      "outputs": [],
      "source": [
        "# Click on `Exercise 3.1` above to open the workbook.ipynb file"
      ]
    },
    {
      "cell_type": "code",
      "execution_count": null,
      "id": "86bb11df",
      "metadata": {},
      "outputs": [],
      "source": [
        "# WARNING: if you complete the exercise here, your cell numbers\n",
        "# for the rest of the training might not match the slides"
      ]
    },
    {
      "cell_type": "markdown",
      "id": "27ea2ee1",
      "metadata": {
        "slideshow": {
          "slide_type": "slide"
        }
      },
      "source": [
        "## Plotting with Seaborn\n",
        "\n",
        "The Seaborn library provides the means to easily visualize long-format data without first pivoting it. In addition, it also offers some additional plot types &ndash; once again building on top of Mtplotlib. Here, we will look at a few examples of visualizations we can create with Seaborn."
      ]
    },
    {
      "cell_type": "markdown",
      "id": "46da449e",
      "metadata": {
        "slideshow": {
          "slide_type": "subslide"
        }
      },
      "source": [
        "### Visualizing long-format data\n",
        "\n",
        "With Seaborn, we can specify plot colors according to values of a column with the `hue` parameter. When working with functions that generate subplots, we can also specify how to split the subplots by values of a long-format column with the `col` and `row` parameters. Here, we revisit the comparison of the distribution of TSA traveler throughput across years:"
      ]
    },
    {
      "cell_type": "code",
      "execution_count": null,
      "id": "24e5c008",
      "metadata": {},
      "outputs": [],
      "source": [
        "import seaborn as sns\n",
        "\n",
        "sns.displot(\n",
        "    data=tsa_melted_holiday_travel, x='travelers', col='year', kde=True, height=2.5\n",
        ")"
      ]
    },
    {
      "cell_type": "markdown",
      "id": "387abec2",
      "metadata": {
        "slideshow": {
          "slide_type": "subslide"
        }
      },
      "source": [
        "### Heatmaps\n",
        "We can also use Seaborn to visualize pivot tables as heatmaps:"
      ]
    },
    {
      "cell_type": "code",
      "execution_count": null,
      "id": "137469d8",
      "metadata": {},
      "outputs": [],
      "source": [
        "data = tsa_melted_holiday_travel['2019':'2021-04']\\\n",
        "    .assign(month=lambda x: x.index.month)\\\n",
        "    .pivot_table(index='month', columns='year', values='travelers', aggfunc='sum')\n",
        "\n",
        "data"
      ]
    },
    {
      "cell_type": "code",
      "execution_count": null,
      "id": "90a304b2",
      "metadata": {
        "slideshow": {
          "slide_type": "subslide"
        }
      },
      "outputs": [],
      "source": [
        "ax = sns.heatmap(data=data / 1e6, cmap='Blues', annot=True, fmt='.1f')\n",
        "_ = ax.set_yticklabels(calendar.month_abbr[1:], rotation=0)\n",
        "_ = ax.set_title('Total TSA Traveler Throughput (in millions)')"
      ]
    },
    {
      "cell_type": "markdown",
      "id": "9328dd3c",
      "metadata": {},
      "source": [
        "*Tip: Reference the Matplotlib documentation for more information on [colormaps](https://matplotlib.org/stable/tutorials/colors/colormaps.html) and [named colors](https://matplotlib.org/stable/gallery/color/named_colors.html).*"
      ]
    },
    {
      "cell_type": "markdown",
      "id": "e279aa51",
      "metadata": {
        "slideshow": {
          "slide_type": "subslide"
        }
      },
      "source": [
        "We're moving on from Seaborn now, but there is a lot more available in the [API](https://seaborn.pydata.org/api.html). Be sure to check out the following at a minimum:\n",
        "- [pairwise plots](https://seaborn.pydata.org/generated/seaborn.pairplot.html#seaborn.pairplot) with `pairplot()`\n",
        "- [categorical scatter plots](https://seaborn.pydata.org/generated/seaborn.swarmplot.html#seaborn.swarmplot) with `swarmplot()`\n",
        "- [joint distribution plots](https://seaborn.pydata.org/generated/seaborn.jointplot.html#seaborn.jointplot) with `jointplot()`\n",
        "- [FacetGrids](https://seaborn.pydata.org/generated/seaborn.FacetGrid.html#seaborn.FacetGrid) for custom layouts with any plot type"
      ]
    },
    {
      "cell_type": "markdown",
      "id": "1e5ef56f",
      "metadata": {},
      "source": [
        "### [Exercise 3.2](./workbook.ipynb#Exercise-3.2)\n",
        "\n",
        "##### Using the TSA traveler throughput data in the `tsa_melted_holiday_travel.csv` file, create a heatmap that shows the 2019 TSA median traveler throughput by day of week and month."
      ]
    },
    {
      "cell_type": "code",
      "execution_count": null,
      "id": "343a8779",
      "metadata": {},
      "outputs": [],
      "source": [
        "# Complete this exercise in the workbook.ipynb file"
      ]
    },
    {
      "cell_type": "code",
      "execution_count": null,
      "id": "4418694f",
      "metadata": {},
      "outputs": [],
      "source": [
        "# Click on `Exercise 3.2` above to open the workbook.ipynb file"
      ]
    },
    {
      "cell_type": "code",
      "execution_count": null,
      "id": "20c94e21",
      "metadata": {},
      "outputs": [],
      "source": [
        "# WARNING: if you complete the exercise here, your cell numbers\n",
        "# for the rest of the training might not match the slides"
      ]
    },
    {
      "cell_type": "markdown",
      "id": "42ee4d75",
      "metadata": {
        "slideshow": {
          "slide_type": "slide"
        }
      },
      "source": [
        "## Customizing plots with Matplotlib\n",
        "\n",
        "In this final section, we will discuss how to use Matplotlib to customize plots. Since there is a lot of functionality available, we will only be covering how to add shaded regions and annotations here, but be sure to check out the [documentation](https://matplotlib.org/) for more."
      ]
    },
    {
      "cell_type": "markdown",
      "id": "ee4a20ed",
      "metadata": {
        "slideshow": {
          "slide_type": "subslide"
        }
      },
      "source": [
        "### Adding shaded regions\n",
        "\n",
        "When looking at a plot of TSA traveler throughput over time, it's helpful to indicate periods during which there was holiday travel. We can do so with the `axvspan()` method:"
      ]
    },
    {
      "cell_type": "code",
      "execution_count": null,
      "id": "b7caf13f",
      "metadata": {},
      "outputs": [],
      "source": [
        "plot_data = tsa_melted_holiday_travel['2019-05':'2019-11']\n",
        "ax = plot_data.travelers.plot(\n",
        "    title='TSA Traveler Throughput', ylabel='travelers', figsize=(9, 2)\n",
        ")\n",
        "ax.yaxis.set_major_formatter(ticker.EngFormatter())\n",
        "\n",
        "# collect the holiday ranges (start and end dates)\n",
        "holiday_ranges = plot_data.dropna().reset_index()\\\n",
        "    .groupby('holiday').agg({'date': ['min', 'max']})\n",
        "\n",
        "# create shaded regions for each holiday in the plot\n",
        "for start_date, end_date in holiday_ranges.to_numpy():\n",
        "    ax.axvspan(start_date, end_date, color='gray', alpha=0.2)"
      ]
    },
    {
      "cell_type": "markdown",
      "id": "3670b1a4",
      "metadata": {
        "slideshow": {
          "slide_type": "subslide"
        }
      },
      "source": [
        "*Tip: Use `axhspan()` for horizontally shaded regions and `axvline()` / `axhline()` for vertical/horizontal reference lines.*"
      ]
    },
    {
      "cell_type": "markdown",
      "id": "e1e4e76c",
      "metadata": {
        "slideshow": {
          "slide_type": "subslide"
        }
      },
      "source": [
        "### Adding annotations\n",
        "\n",
        "We can use the `annotate()` method to add annotations to the plot. Here, we point out the day in 2019 with the highest TSA traveler throughput, which was the day after Thanksgiving:"
      ]
    },
    {
      "cell_type": "code",
      "execution_count": null,
      "id": "69b66385",
      "metadata": {},
      "outputs": [],
      "source": [
        "plot_data = tsa_melted_holiday_travel.loc['2019']\n",
        "ax = plot_data.travelers.plot(\n",
        "    title='TSA Traveler Throughput', ylabel='travelers', figsize=(9, 2)\n",
        ")\n",
        "ax.yaxis.set_major_formatter(ticker.EngFormatter())\n",
        "\n",
        "# highest throughput\n",
        "max_throughput_date = plot_data.travelers.idxmax()\n",
        "max_throughput = plot_data.travelers.max()\n",
        "_ = ax.annotate(\n",
        "    f'{max_throughput_date:%b %d}\\n({max_throughput / 1e6:.2f} M)',\n",
        "    xy=(max_throughput_date, max_throughput),\n",
        "    xytext=(max_throughput_date - pd.Timedelta(days=25), max_throughput * 0.92),\n",
        "    arrowprops={'arrowstyle': '->'}, ha='center'\n",
        ")"
      ]
    },
    {
      "cell_type": "markdown",
      "id": "32b217a8",
      "metadata": {
        "slideshow": {
          "slide_type": "subslide"
        }
      },
      "source": [
        "Some things to keep in mind: \n",
        "- We used `Axes` methods to customize our plots (i.e., an object-oriented approach), but the `pyplot` module provides equivalent functions (i.e., a functional approach) for adding shaded regions, reference lines, annotations, etc. &ndash; although the function names might be slightly different than their `Axes` method counterparts (e.g., `Axes.set_xlabel()` vs. `plt.xlabel()`). \n",
        "- In general, try to stick to either the object-oriented or functional approach rather than mixing the two. However, be careful when working with subplots &ndash; `pyplot` functions will only affect the last subplot.\n",
        "- The [anatomy of a figure](https://matplotlib.org/stable/gallery/showcase/anatomy.html) diagram in the Matplotlib documentation is a great resource for identifying which objects you will need to access for plot customizations."
      ]
    },
    {
      "cell_type": "markdown",
      "id": "b8203c4f",
      "metadata": {
        "slideshow": {
          "slide_type": "subslide"
        }
      },
      "source": [
        "For more on data visualization in Python, including animations and interactive plots, check out my [Beyond the Basics: Data Visualization in Python](https://stefaniemolin.com/workshops/python-data-viz-workshop/) workshop."
      ]
    },
    {
      "cell_type": "markdown",
      "id": "ed3b33a2",
      "metadata": {},
      "source": [
        "### [Exercise 3.3](./workbook.ipynb#Exercise-3.3)\n",
        "\n",
        "##### Annotate the medians in the box plot from *[Exercise 3.1](./workbook.ipynb#Exercise-3.1)*. Hint: The `x` coordinates will be 1, 2, and 3 for 2019, 2020, and 2021, respectively. Alternatively, to avoid hardcoding values, you can use the `Axes.get_xticklabels()` method, in which case you should look at the [documentation](https://matplotlib.org/stable/api/text_api.html) for the `Text` class."
      ]
    },
    {
      "cell_type": "code",
      "execution_count": null,
      "id": "7fa0fcd1",
      "metadata": {},
      "outputs": [],
      "source": [
        "# Complete this exercise in the workbook.ipynb file"
      ]
    },
    {
      "cell_type": "code",
      "execution_count": null,
      "id": "73bf0b8a",
      "metadata": {},
      "outputs": [],
      "source": [
        "# Click on `Exercise 3.3` above to open the workbook.ipynb file"
      ]
    },
    {
      "cell_type": "code",
      "execution_count": null,
      "id": "7f2fb793",
      "metadata": {},
      "outputs": [],
      "source": [
        "# TIP: the solution to Exercise 3.1 can be found at\n",
        "# https://stefaniemolin.com/pandas-workshop/#/solution-3-1"
      ]
    },
    {
      "cell_type": "markdown",
      "id": "5f030c3f",
      "metadata": {
        "slideshow": {
          "slide_type": "slide"
        }
      },
      "source": [
        "## Up Next: [Hands-On Data Analysis Lab](./4-hands_on_data_analysis_lab.ipynb)"
      ]
    }
  ],
  "metadata": {
    "kernelspec": {
      "display_name": "Python 3 (ipykernel)",
      "language": "python",
      "name": "python3"
    }
  },
  "nbformat": 4,
  "nbformat_minor": 5
}
