{
  "cells": [
    {
      "cell_type": "markdown",
      "id": "d70c8f21",
      "metadata": {
        "editable": true,
        "slideshow": {
          "slide_type": "skip"
        }
      },
      "source": [
        "[![Binder](https://mybinder.org/badge_logo.svg)](https://mybinder.org/v2/gh/stefmolin/pandas-workshop/main?urlpath=lab/tree/notebooks/2-data_wrangling.ipynb) [![View slides in browser](https://img.shields.io/badge/view-slides-orange?logo=reveal.js&logoColor=white)](https://stefaniemolin.com/pandas-workshop/#/section-2)\n",
        "\n",
        "---\n",
        "\n"
      ]
    },
    {
      "cell_type": "markdown",
      "id": "921f08d8",
      "metadata": {
        "editable": true,
        "slideshow": {
          "slide_type": "slide"
        }
      },
      "source": [
        "# Section 2: Data Wrangling\n",
        "\n",
        "To prepare our data for analysis, we need to perform data wrangling. In this section, we will learn how to clean and reformat data (e.g., renaming columns and fixing data type mismatches), restructure/reshape it, and enrich it (e.g., discretizing columns, calculating aggregations, and combining data sources)."
      ]
    },
    {
      "cell_type": "markdown",
      "id": "d2dfcc6c",
      "metadata": {
        "editable": true,
        "slideshow": {
          "slide_type": "slide"
        }
      },
      "source": [
        "## Data cleaning\n",
        "\n",
        "In this section, we will take a look at creating, renaming, and dropping columns; type conversion; and sorting &ndash; all of which make our analysis easier. We will be working with the 2019 Yellow Taxi Trip Data provided by NYC Open Data."
      ]
    },
    {
      "cell_type": "code",
      "execution_count": null,
      "id": "9a545614",
      "metadata": {
        "editable": true,
        "slideshow": {
          "slide_type": ""
        }
      },
      "outputs": [],
      "source": [
        "import pandas as pd\n",
        "\n",
        "taxis = pd.read_csv('data/2019_Yellow_Taxi_Trip_Data.csv')\n",
        "taxis.head()"
      ]
    },
    {
      "cell_type": "markdown",
      "id": "c75a6e84",
      "metadata": {
        "editable": true,
        "slideshow": {
          "slide_type": ""
        }
      },
      "source": [
        "*Source: [NYC Open Data](https://data.cityofnewyork.us/Transportation/2019-Yellow-Taxi-Trip-Data/2upf-qytp) collected via [SODA](https://dev.socrata.com/foundry/data.cityofnewyork.us/2upf-qytp).*"
      ]
    },
    {
      "cell_type": "markdown",
      "id": "f4e4742a",
      "metadata": {
        "editable": true,
        "slideshow": {
          "slide_type": "subslide"
        }
      },
      "source": [
        "### Dropping columns\n",
        "Let's start by dropping the ID columns and the `store_and_fwd_flag` column, which we won't be using."
      ]
    },
    {
      "cell_type": "code",
      "execution_count": null,
      "id": "0cb15c33",
      "metadata": {
        "editable": true,
        "slideshow": {
          "slide_type": "fragment"
        }
      },
      "outputs": [],
      "source": [
        "mask = taxis.columns.str.contains('id$|store_and_fwd_flag', regex=True)\n",
        "columns_to_drop = taxis.columns[mask]\n",
        "columns_to_drop"
      ]
    },
    {
      "cell_type": "code",
      "execution_count": null,
      "id": "ed0bc6dd",
      "metadata": {
        "editable": true,
        "slideshow": {
          "slide_type": "subslide"
        }
      },
      "outputs": [],
      "source": [
        "taxis = taxis.drop(columns=columns_to_drop)\n",
        "taxis.head()"
      ]
    },
    {
      "cell_type": "markdown",
      "id": "4b85679b",
      "metadata": {
        "editable": true,
        "slideshow": {
          "slide_type": "fragment"
        }
      },
      "source": [
        "*Tip: Another way to do this is to select the columns we want to keep: `taxis.loc[:,~mask]`.*"
      ]
    },
    {
      "cell_type": "markdown",
      "id": "e7c02028",
      "metadata": {
        "editable": true,
        "slideshow": {
          "slide_type": "subslide"
        }
      },
      "source": [
        "### Renaming columns\n",
        "\n",
        "Next, let's rename the datetime columns:"
      ]
    },
    {
      "cell_type": "code",
      "execution_count": null,
      "id": "eee7705f",
      "metadata": {
        "editable": true,
        "slideshow": {
          "slide_type": ""
        }
      },
      "outputs": [],
      "source": [
        "taxis = taxis.rename(\n",
        "    columns={\n",
        "        'tpep_pickup_datetime': 'pickup', \n",
        "        'tpep_dropoff_datetime': 'dropoff'\n",
        "    }\n",
        ")\n",
        "taxis.columns"
      ]
    },
    {
      "cell_type": "markdown",
      "id": "b428776d",
      "metadata": {
        "editable": true,
        "slideshow": {
          "slide_type": "subslide"
        }
      },
      "source": [
        "### Type conversion\n",
        "\n",
        "Notice anything off with the data types?"
      ]
    },
    {
      "cell_type": "code",
      "execution_count": null,
      "id": "f92a3f68",
      "metadata": {
        "editable": true,
        "slideshow": {
          "slide_type": ""
        }
      },
      "outputs": [],
      "source": [
        "taxis.dtypes"
      ]
    },
    {
      "cell_type": "markdown",
      "id": "d36b66e3",
      "metadata": {
        "editable": true,
        "slideshow": {
          "slide_type": "subslide"
        }
      },
      "source": [
        "Both `pickup` and `dropoff` should be stored as datetimes. Let's fix this:"
      ]
    },
    {
      "cell_type": "code",
      "execution_count": null,
      "id": "60e784f0",
      "metadata": {
        "editable": true,
        "slideshow": {
          "slide_type": ""
        }
      },
      "outputs": [],
      "source": [
        "taxis[['pickup', 'dropoff']] = \\\n",
        "    taxis[['pickup', 'dropoff']].apply(pd.to_datetime)\n",
        "taxis.dtypes"
      ]
    },
    {
      "cell_type": "markdown",
      "id": "016503d5",
      "metadata": {
        "editable": true,
        "slideshow": {
          "slide_type": ""
        }
      },
      "source": [
        "*Tip: There are other ways to perform type conversion. For numeric values, we can use the `pd.to_numeric()` function, and we will see the `astype()` method, which is a more generic method, a little later.*"
      ]
    },
    {
      "cell_type": "markdown",
      "id": "10f41029",
      "metadata": {
        "editable": true,
        "slideshow": {
          "slide_type": "subslide"
        }
      },
      "source": [
        "### Creating new columns\n",
        "\n",
        "Let's calculate the following for each row:\n",
        "\n",
        "1. elapsed time of the trip\n",
        "2. the tip percentage\n",
        "3. the total taxes, tolls, fees, and surcharges\n",
        "4. the average speed of the taxi"
      ]
    },
    {
      "cell_type": "code",
      "execution_count": null,
      "id": "9c0aab73",
      "metadata": {
        "editable": true,
        "slideshow": {
          "slide_type": "fragment"
        }
      },
      "outputs": [],
      "source": [
        "taxis = taxis.assign(\n",
        "    elapsed_time=lambda x: x.dropoff - x.pickup, # 1\n",
        "    cost_before_tip=lambda x: x.total_amount - x.tip_amount,\n",
        "    tip_pct=lambda x: x.tip_amount / x.cost_before_tip, # 2\n",
        "    fees=lambda x: x.cost_before_tip - x.fare_amount, # 3\n",
        "    avg_speed=lambda x: x.trip_distance.div(\n",
        "        x.elapsed_time.dt.total_seconds() / 60 / 60\n",
        "    ) # 4\n",
        ")"
      ]
    },
    {
      "cell_type": "markdown",
      "id": "8211757a",
      "metadata": {
        "editable": true,
        "slideshow": {
          "slide_type": ""
        }
      },
      "source": [
        "*Tip: New to `lambda` functions? These small, anonymous functions can receive multiple arguments, but can only contain one expression (the return value). You will see these a lot in pandas code. Read more about them [here](https://realpython.com/python-lambda/).*"
      ]
    },
    {
      "cell_type": "markdown",
      "id": "069ccc16",
      "metadata": {
        "editable": true,
        "slideshow": {
          "slide_type": "subslide"
        }
      },
      "source": [
        "Our new columns get added to the right:"
      ]
    },
    {
      "cell_type": "code",
      "execution_count": null,
      "id": "abb53b44",
      "metadata": {
        "editable": true,
        "slideshow": {
          "slide_type": ""
        }
      },
      "outputs": [],
      "source": [
        "taxis.head(2)"
      ]
    },
    {
      "cell_type": "markdown",
      "id": "4a6c0e44",
      "metadata": {
        "editable": true,
        "slideshow": {
          "slide_type": "fragment"
        }
      },
      "source": [
        "Some things to note:\n",
        "- We used `lambda` functions to 1) avoid typing `taxis` repeatedly and 2) be able to access the `cost_before_tip` and `elapsed_time` columns in the same method that we create them.\n",
        "- To create a single new column, we can also use `df['new_col'] = <values>`."
      ]
    },
    {
      "cell_type": "markdown",
      "id": "a05f6b8d",
      "metadata": {
        "editable": true,
        "slideshow": {
          "slide_type": "subslide"
        }
      },
      "source": [
        "### Sorting by values\n",
        "\n",
        "We can use the `sort_values()` method to sort based on any number of columns:"
      ]
    },
    {
      "cell_type": "code",
      "execution_count": null,
      "id": "615e870b",
      "metadata": {
        "editable": true,
        "slideshow": {
          "slide_type": ""
        }
      },
      "outputs": [],
      "source": [
        "taxis.sort_values(['passenger_count', 'pickup'], ascending=[False, True]).head()"
      ]
    },
    {
      "cell_type": "markdown",
      "id": "d2f8a538",
      "metadata": {
        "editable": true,
        "slideshow": {
          "slide_type": "subslide"
        }
      },
      "source": [
        "To pick out the largest/smallest rows, use `nlargest()` / `nsmallest()` instead. Looking at the 3 trips with the longest elapsed time, we see some possible data integrity issues:"
      ]
    },
    {
      "cell_type": "code",
      "execution_count": null,
      "id": "0fd2804a",
      "metadata": {
        "editable": true,
        "slideshow": {
          "slide_type": ""
        }
      },
      "outputs": [],
      "source": [
        "taxis.nlargest(3, 'elapsed_time')"
      ]
    },
    {
      "cell_type": "markdown",
      "id": "c24dd7f5",
      "metadata": {
        "editable": true,
        "slideshow": {
          "slide_type": ""
        }
      },
      "source": [
        "### [Exercise 2.1](./workbook.ipynb#Exercise-2.1)\n",
        "\n",
        "##### Read in the meteorite data from the `Meteorite_Landings.csv` file, rename the `mass (g)` column to `mass`, and drop all the latitude and longitude columns. Sort the result by mass in descending order."
      ]
    },
    {
      "cell_type": "code",
      "execution_count": null,
      "id": "f8db4cb6",
      "metadata": {
        "editable": true,
        "slideshow": {
          "slide_type": ""
        }
      },
      "outputs": [],
      "source": [
        "# Complete this exercise in the workbook.ipynb file\n",
        "# Click on `Exercise 2.1` above to open the workbook.ipynb file\n",
        "\n",
        "# WARNING: if you complete the exercise here, your cell numbers\n",
        "# for the rest of the training might not match the slides"
      ]
    },
    {
      "cell_type": "markdown",
      "id": "911d79a4",
      "metadata": {
        "editable": true,
        "slideshow": {
          "slide_type": "slide"
        }
      },
      "source": [
        "## Working with the index\n",
        "\n",
        "So far, we haven't really worked with the index because it's just been a row number; however, we can change the values we have in the index to access additional features of the pandas library."
      ]
    },
    {
      "cell_type": "markdown",
      "id": "fa0ed1a2",
      "metadata": {
        "editable": true,
        "slideshow": {
          "slide_type": "subslide"
        }
      },
      "source": [
        "### Setting and sorting the index\n",
        "\n",
        "Currently, we have a RangeIndex, but we can switch to a DatetimeIndex by specifying a datetime column when calling `set_index()`:"
      ]
    },
    {
      "cell_type": "code",
      "execution_count": null,
      "id": "92da232a",
      "metadata": {
        "editable": true,
        "slideshow": {
          "slide_type": ""
        }
      },
      "outputs": [],
      "source": [
        "taxis = taxis.set_index('pickup')\n",
        "taxis.head(3)"
      ]
    },
    {
      "cell_type": "markdown",
      "id": "2c01d498",
      "metadata": {
        "editable": true,
        "slideshow": {
          "slide_type": "subslide"
        }
      },
      "source": [
        "Since we have a sample of the full dataset, let's sort the index to order by pickup time:"
      ]
    },
    {
      "cell_type": "code",
      "execution_count": null,
      "id": "6fbac831",
      "metadata": {
        "editable": true,
        "slideshow": {
          "slide_type": ""
        }
      },
      "outputs": [],
      "source": [
        "taxis = taxis.sort_index()"
      ]
    },
    {
      "cell_type": "markdown",
      "id": "db8b870e",
      "metadata": {
        "editable": true,
        "slideshow": {
          "slide_type": "fragment"
        }
      },
      "source": [
        "*Tip: `taxis.sort_index(axis=1)` will sort the columns by name. The `axis` parameter is present throughout the pandas library: `axis=0` targets rows and `axis=1` targets columns.*"
      ]
    },
    {
      "cell_type": "markdown",
      "id": "14ef0e20",
      "metadata": {
        "editable": true,
        "slideshow": {
          "slide_type": "subslide"
        }
      },
      "source": [
        "We can now select ranges from our data based on the datetime the same way we did with row numbers:"
      ]
    },
    {
      "cell_type": "code",
      "execution_count": null,
      "id": "b1e03020",
      "metadata": {
        "editable": true,
        "slideshow": {
          "slide_type": ""
        }
      },
      "outputs": [],
      "source": [
        "taxis['2019-10-23 07:45':'2019-10-23 08']"
      ]
    },
    {
      "cell_type": "markdown",
      "id": "3f080576",
      "metadata": {
        "editable": true,
        "slideshow": {
          "slide_type": "subslide"
        }
      },
      "source": [
        "When not specifying a range, we use `loc[]`:"
      ]
    },
    {
      "cell_type": "code",
      "execution_count": null,
      "id": "7d264a14",
      "metadata": {
        "editable": true,
        "slideshow": {
          "slide_type": ""
        }
      },
      "outputs": [],
      "source": [
        "taxis.loc['2019-10-23 08']"
      ]
    },
    {
      "cell_type": "markdown",
      "id": "0ef42bc2",
      "metadata": {
        "editable": true,
        "slideshow": {
          "slide_type": "subslide"
        }
      },
      "source": [
        "### Resetting the index\n",
        "\n",
        "We will be working with time series later this section, but sometimes we want to reset our index to row numbers and restore the columns. We can make `pickup` a column again with the `reset_index()` method:"
      ]
    },
    {
      "cell_type": "code",
      "execution_count": null,
      "id": "d786a7dc",
      "metadata": {
        "editable": true,
        "slideshow": {
          "slide_type": ""
        }
      },
      "outputs": [],
      "source": [
        "taxis = taxis.reset_index()\n",
        "taxis.head()"
      ]
    },
    {
      "cell_type": "markdown",
      "id": "a1b60351",
      "metadata": {
        "editable": true,
        "slideshow": {
          "slide_type": ""
        }
      },
      "source": [
        "### [Exercise 2.2](./workbook.ipynb#Exercise-2.2)\n",
        "\n",
        "##### Using the meteorite data from the `Meteorite_Landings.csv` file, update the `year` column to only contain the year, convert it to a numeric data type, and create a new column indicating whether the meteorite was observed falling before 1970. Set the index to the `id` column and extract all the rows with IDs between 10,036 and 10,040 (inclusive) with `loc[]`.\n",
        "\n",
        "###### **Hint 1**: Use `year.str.slice()` to grab a substring.\n",
        "\n",
        "###### **Hint 2**: Make sure to sort the index before using `loc[]` to select the range.\n",
        "\n",
        "###### **Bonus**: There's a data entry error in the `year` column. Can you find it? (Don't spend too much time on this.)"
      ]
    },
    {
      "cell_type": "code",
      "execution_count": null,
      "id": "f79ad8ef",
      "metadata": {
        "editable": true,
        "slideshow": {
          "slide_type": ""
        }
      },
      "outputs": [],
      "source": [
        "# Complete this exercise in the workbook.ipynb file"
      ]
    },
    {
      "cell_type": "code",
      "execution_count": null,
      "id": "6b2a232c",
      "metadata": {
        "editable": true,
        "slideshow": {
          "slide_type": ""
        }
      },
      "outputs": [],
      "source": [
        "# Click on `Exercise 2.2` above to open the workbook.ipynb file"
      ]
    },
    {
      "cell_type": "code",
      "execution_count": null,
      "id": "abce04b9",
      "metadata": {
        "editable": true,
        "slideshow": {
          "slide_type": ""
        }
      },
      "outputs": [],
      "source": [
        "# WARNING: if you complete the exercise here, your cell numbers\n",
        "# for the rest of the training might not match the slides"
      ]
    },
    {
      "cell_type": "markdown",
      "id": "f991b82f",
      "metadata": {
        "editable": true,
        "slideshow": {
          "slide_type": "slide"
        }
      },
      "source": [
        "## Reshaping data\n",
        "\n",
        "The taxi dataset we have be working with is in a format conducive to an analysis. This isn't always the case. Let's now take a look at the TSA traveler throughput data, which compares 2021 throughput to the same day in 2020 and 2019:"
      ]
    },
    {
      "cell_type": "code",
      "execution_count": null,
      "id": "a979c46e",
      "metadata": {
        "editable": true,
        "slideshow": {
          "slide_type": "fragment"
        }
      },
      "outputs": [],
      "source": [
        "tsa = pd.read_csv('data/tsa_passenger_throughput.csv', parse_dates=['Date'])\n",
        "tsa.head()"
      ]
    },
    {
      "cell_type": "markdown",
      "id": "3c0b97e5",
      "metadata": {
        "editable": true,
        "slideshow": {
          "slide_type": ""
        }
      },
      "source": [
        "*Source: [TSA.gov](https://www.tsa.gov/coronavirus/passenger-throughput) (collected on May 16, 2021)*"
      ]
    },
    {
      "cell_type": "markdown",
      "id": "3034ca70",
      "metadata": {
        "editable": true,
        "slideshow": {
          "slide_type": "subslide"
        }
      },
      "source": [
        "First, we will lowercase the column names and take the first word (e.g., `2021` for `2021 Traveler Throughput`) to make this easier to work with:"
      ]
    },
    {
      "cell_type": "code",
      "execution_count": null,
      "id": "076c3182",
      "metadata": {
        "editable": true,
        "slideshow": {
          "slide_type": ""
        }
      },
      "outputs": [],
      "source": [
        "tsa = tsa.rename(columns=lambda x: x.lower().split()[0])\n",
        "tsa.head()"
      ]
    },
    {
      "cell_type": "markdown",
      "id": "e06a3361",
      "metadata": {
        "editable": true,
        "slideshow": {
          "slide_type": "fragment"
        }
      },
      "source": [
        "Now, we can work on reshaping it into two columns: the date and the traveler throughput from 2019 through 2021."
      ]
    },
    {
      "cell_type": "markdown",
      "id": "8347c61f",
      "metadata": {
        "editable": true,
        "slideshow": {
          "slide_type": "subslide"
        }
      },
      "source": [
        "Starting with the long-format data below, we want to **melt** it into wide-format data so that we can look at the evolution of the throughput over time:"
      ]
    },
    {
      "cell_type": "code",
      "execution_count": null,
      "id": "2764ec71",
      "metadata": {
        "editable": true,
        "slideshow": {
          "slide_type": ""
        }
      },
      "outputs": [],
      "source": [
        "from utils import highlight_long_format\n",
        "\n",
        "colors = {'2021': 'pink', '2020': 'skyblue', '2019': 'lightgreen'}\n",
        "highlight_long_format(tsa.head(2), colors)"
      ]
    },
    {
      "cell_type": "markdown",
      "id": "7a7afe55",
      "metadata": {
        "editable": true,
        "slideshow": {
          "slide_type": "fragment"
        }
      },
      "source": [
        "Note that the two rows above contain the same data as the six rows below:"
      ]
    },
    {
      "cell_type": "code",
      "execution_count": null,
      "id": "aef5056b",
      "metadata": {
        "editable": true,
        "slideshow": {
          "slide_type": ""
        }
      },
      "outputs": [],
      "source": [
        "from utils import highlight_wide_format\n",
        "\n",
        "highlight_wide_format(tsa.head(2), colors)"
      ]
    },
    {
      "cell_type": "markdown",
      "id": "e25d6ae5",
      "metadata": {
        "editable": true,
        "slideshow": {
          "slide_type": "fragment"
        }
      },
      "source": [
        "Let's work on making this transformation."
      ]
    },
    {
      "cell_type": "markdown",
      "id": "d33bca15",
      "metadata": {
        "editable": true,
        "slideshow": {
          "slide_type": "subslide"
        }
      },
      "source": [
        "### Melting\n",
        "\n",
        "Melting helps convert our data into long format. Now, we have all the traveler throughput numbers in a single column:"
      ]
    },
    {
      "cell_type": "code",
      "execution_count": null,
      "id": "ddbbf4ca",
      "metadata": {
        "editable": true,
        "slideshow": {
          "slide_type": ""
        }
      },
      "outputs": [],
      "source": [
        "tsa_melted = tsa.melt(\n",
        "    id_vars='date', # column that uniquely identifies a row (can be multiple)\n",
        "    var_name='year', # name for the new column created by melting\n",
        "    value_name='travelers' # name for new column containing values from melted columns\n",
        ")\n",
        "tsa_melted.sample(5, random_state=1) # show some random entries"
      ]
    },
    {
      "cell_type": "markdown",
      "id": "4b30669b",
      "metadata": {
        "editable": true,
        "slideshow": {
          "slide_type": "subslide"
        }
      },
      "source": [
        "To convert this into a time series of traveler throughput, we need to replace the year in the `date` column with the one in the `year` column. Otherwise, we are marking prior years' numbers with the wrong year."
      ]
    },
    {
      "cell_type": "code",
      "execution_count": null,
      "id": "fca7a780",
      "metadata": {
        "editable": true,
        "slideshow": {
          "slide_type": ""
        }
      },
      "outputs": [],
      "source": [
        "tsa_melted = tsa_melted.assign(\n",
        "    date=lambda x: pd.to_datetime(x.year + x.date.dt.strftime('-%m-%d'))\n",
        ")\n",
        "tsa_melted.sample(5, random_state=1)"
      ]
    },
    {
      "cell_type": "markdown",
      "id": "53eb41b8",
      "metadata": {
        "editable": true,
        "slideshow": {
          "slide_type": "subslide"
        }
      },
      "source": [
        "This leaves us with some null values (the dates that aren't present in the dataset):"
      ]
    },
    {
      "cell_type": "code",
      "execution_count": null,
      "id": "e72bb047",
      "metadata": {
        "editable": true,
        "slideshow": {
          "slide_type": ""
        }
      },
      "outputs": [],
      "source": [
        "tsa_melted.sort_values('date').tail(3)"
      ]
    },
    {
      "cell_type": "markdown",
      "id": "3e4dc1b9",
      "metadata": {
        "editable": true,
        "slideshow": {
          "slide_type": "fragment"
        }
      },
      "source": [
        "These can be dropped with the `dropna()` method:"
      ]
    },
    {
      "cell_type": "code",
      "execution_count": null,
      "id": "da5b49c4",
      "metadata": {
        "editable": true,
        "slideshow": {
          "slide_type": ""
        }
      },
      "outputs": [],
      "source": [
        "tsa_melted = tsa_melted.dropna()\n",
        "tsa_melted.sort_values('date').tail(3)"
      ]
    },
    {
      "cell_type": "markdown",
      "id": "f00099cd",
      "metadata": {
        "editable": true,
        "slideshow": {
          "slide_type": "subslide"
        }
      },
      "source": [
        "### Pivoting\n",
        "\n",
        "Using the melted data, we can pivot the data to compare TSA traveler throughput on specific days across years:"
      ]
    },
    {
      "cell_type": "code",
      "execution_count": null,
      "id": "79f02645",
      "metadata": {
        "editable": true,
        "slideshow": {
          "slide_type": ""
        }
      },
      "outputs": [],
      "source": [
        "tsa_pivoted = tsa_melted\\\n",
        "    .query('date.dt.month == 3 and date.dt.day <= 10')\\\n",
        "    .assign(day_in_march=lambda x: x.date.dt.day)\\\n",
        "    .pivot(index='year', columns='day_in_march', values='travelers')\n",
        "tsa_pivoted"
      ]
    },
    {
      "cell_type": "markdown",
      "id": "d49aa777",
      "metadata": {
        "editable": true,
        "slideshow": {
          "slide_type": "fragment"
        }
      },
      "source": [
        "**Important**: We aren't covering the `unstack()` and `stack()` methods, which are additional ways to pivot and melt, respectively. These come in handy when we have a multi-level index (e.g., if we ran `set_index()` with more than one column). More information can be found [here](https://pandas.pydata.org/pandas-docs/stable/user_guide/reshaping.html)."
      ]
    },
    {
      "cell_type": "markdown",
      "id": "c6606ef0",
      "metadata": {
        "editable": true,
        "slideshow": {
          "slide_type": "subslide"
        }
      },
      "source": [
        "### Transposing\n",
        "\n",
        "The `T` attribute provides a quick way to flip rows and columns."
      ]
    },
    {
      "cell_type": "code",
      "execution_count": null,
      "id": "aa268e32",
      "metadata": {
        "editable": true,
        "slideshow": {
          "slide_type": ""
        }
      },
      "outputs": [],
      "source": [
        "tsa_pivoted.T"
      ]
    },
    {
      "cell_type": "markdown",
      "id": "229576d6",
      "metadata": {
        "editable": true,
        "slideshow": {
          "slide_type": "subslide"
        }
      },
      "source": [
        "### Merging\n",
        "\n",
        "We typically observe changes in air travel around the holidays, so adding information about the dates in the TSA dataset provides more context. The `holidays.csv` file contains a few major holidays in the United States:"
      ]
    },
    {
      "cell_type": "code",
      "execution_count": null,
      "id": "f1b9450f",
      "metadata": {
        "editable": true,
        "slideshow": {
          "slide_type": ""
        }
      },
      "outputs": [],
      "source": [
        "holidays = pd.read_csv('data/holidays.csv', parse_dates=True, index_col='date')\n",
        "holidays.loc['2019']"
      ]
    },
    {
      "cell_type": "markdown",
      "id": "d2e4737b",
      "metadata": {
        "editable": true,
        "slideshow": {
          "slide_type": "subslide"
        }
      },
      "source": [
        "Merging the holidays with the TSA traveler throughput data will provide more context for our analysis:"
      ]
    },
    {
      "cell_type": "code",
      "execution_count": null,
      "id": "8b680ff2",
      "metadata": {
        "editable": true,
        "slideshow": {
          "slide_type": ""
        }
      },
      "outputs": [],
      "source": [
        "tsa_melted_holidays = tsa_melted\\\n",
        "    .merge(holidays, left_on='date', right_index=True, how='left')\\\n",
        "    .sort_values('date')\n",
        "tsa_melted_holidays.head()"
      ]
    },
    {
      "cell_type": "markdown",
      "id": "135152b9",
      "metadata": {
        "editable": true,
        "slideshow": {
          "slide_type": "fragment"
        }
      },
      "source": [
        "*Tip: There are many parameters for this method, so be sure to check out the [documentation](https://pandas.pydata.org/pandas-docs/stable/reference/api/pandas.DataFrame.merge.html). To append rows, take a look at the `pd.concat()` function.*"
      ]
    },
    {
      "cell_type": "markdown",
      "id": "8c06a49a",
      "metadata": {
        "editable": true,
        "slideshow": {
          "slide_type": "subslide"
        }
      },
      "source": [
        "We can take this a step further by marking a few days before and after each holiday as part of the holiday. This would make it easier to compare holiday travel across years and look for any uptick in travel around the holidays:"
      ]
    },
    {
      "cell_type": "code",
      "execution_count": null,
      "id": "fa98e4f2",
      "metadata": {
        "editable": true,
        "slideshow": {
          "slide_type": ""
        }
      },
      "outputs": [],
      "source": [
        "tsa_melted_holiday_travel = tsa_melted_holidays.assign(\n",
        "    holiday=lambda x:\n",
        "        x.holiday\\\n",
        "            .ffill(limit=1)\\\n",
        "            .bfill(limit=2)\n",
        ")"
      ]
    },
    {
      "cell_type": "markdown",
      "id": "eb79d11d",
      "metadata": {
        "editable": true,
        "slideshow": {
          "slide_type": "fragment"
        }
      },
      "source": [
        "*Tip: Check out the [`fillna()` method documentation](https://pandas.pydata.org/pandas-docs/stable/reference/api/pandas.DataFrame.fillna.html) for additional functionality for replacing `NA`/`NaN` values.*"
      ]
    },
    {
      "cell_type": "markdown",
      "id": "98312ea9",
      "metadata": {
        "editable": true,
        "slideshow": {
          "slide_type": "subslide"
        }
      },
      "source": [
        "Notice that we now have values for the day after each holiday and the two days prior. Thanksgiving in 2019 was on November 28th, so the 26th, 27th, and 29th were filled. Since we are only replacing null values, we don't override Christmas Day with the forward fill of Christmas Eve:"
      ]
    },
    {
      "cell_type": "code",
      "execution_count": null,
      "id": "f551e634",
      "metadata": {
        "editable": true,
        "slideshow": {
          "slide_type": ""
        }
      },
      "outputs": [],
      "source": [
        "tsa_melted_holiday_travel.query(\n",
        "    'year == \"2019\" and '\n",
        "    '(holiday == \"Thanksgiving\" or holiday.str.contains(\"Christmas\"))'\n",
        ")"
      ]
    },
    {
      "cell_type": "markdown",
      "id": "c30d59bf",
      "metadata": {
        "editable": true,
        "slideshow": {
          "slide_type": "slide"
        }
      },
      "source": [
        "## Aggregations and grouping\n",
        "\n",
        "After reshaping and cleaning our data, we can perform aggregations to summarize it in a variety of ways. In this section, we will explore using pivot tables, crosstabs, and group by operations to aggregate the data."
      ]
    },
    {
      "cell_type": "markdown",
      "id": "4c5cf699",
      "metadata": {
        "editable": true,
        "slideshow": {
          "slide_type": "subslide"
        }
      },
      "source": [
        "### Pivot tables\n",
        "We can build a pivot table to compare holiday travel across the years in our dataset:"
      ]
    },
    {
      "cell_type": "code",
      "execution_count": null,
      "id": "ed35586c",
      "metadata": {
        "editable": true,
        "slideshow": {
          "slide_type": ""
        }
      },
      "outputs": [],
      "source": [
        "tsa_melted_holiday_travel.pivot_table(\n",
        "    index='year', columns='holiday', sort=False,\n",
        "    values='travelers', aggfunc='sum'\n",
        ")"
      ]
    },
    {
      "cell_type": "markdown",
      "id": "4719b4fd",
      "metadata": {
        "editable": true,
        "slideshow": {
          "slide_type": "subslide"
        }
      },
      "source": [
        "We can use the `pct_change()` method on this result to see which holiday travel periods saw the biggest change in travel:"
      ]
    },
    {
      "cell_type": "code",
      "execution_count": null,
      "id": "cffb7ae6",
      "metadata": {
        "editable": true,
        "slideshow": {
          "slide_type": ""
        }
      },
      "outputs": [],
      "source": [
        "tsa_melted_holiday_travel.pivot_table(\n",
        "    index='year', columns='holiday', sort=False,\n",
        "    values='travelers', aggfunc='sum'\n",
        ").pct_change(fill_method=None)"
      ]
    },
    {
      "cell_type": "markdown",
      "id": "fed9e776",
      "metadata": {
        "editable": true,
        "slideshow": {
          "slide_type": "subslide"
        }
      },
      "source": [
        "Let's make one last pivot table with column and row subtotals, along with some formatting improvements. First, we set a display option for all floats:"
      ]
    },
    {
      "cell_type": "code",
      "execution_count": null,
      "id": "d201ee95",
      "metadata": {
        "editable": true,
        "slideshow": {
          "slide_type": ""
        }
      },
      "outputs": [],
      "source": [
        "pd.set_option('display.float_format', '{:,.0f}'.format)"
      ]
    },
    {
      "cell_type": "markdown",
      "id": "b63791b1",
      "metadata": {
        "editable": true,
        "slideshow": {
          "slide_type": "subslide"
        }
      },
      "source": [
        "Next, we group together Christmas Eve and Christmas Day, likewise for New Year's Eve and New Year's Day (handling for the change in year), and create the pivot table:"
      ]
    },
    {
      "cell_type": "code",
      "execution_count": null,
      "id": "f9a503ce",
      "metadata": {
        "editable": true,
        "slideshow": {
          "slide_type": ""
        }
      },
      "outputs": [],
      "source": [
        "import numpy as np\n",
        "\n",
        "pivot_table = tsa_melted_holiday_travel.assign(\n",
        "    year=lambda x: np.where(\n",
        "        x.holiday == \"New Year's Day\", pd.to_numeric(x.year) - 1, x.year\n",
        "    ).astype(str),\n",
        "    holiday=lambda x: np.where(\n",
        "        x.holiday.str.contains('Christmas|New Year', regex=True), \n",
        "        x.holiday.str.replace('Day|Eve', '', regex=True).str.strip(), \n",
        "        x.holiday\n",
        "    )\n",
        ").pivot_table(\n",
        "    index='year', columns='holiday', sort=False,\n",
        "    values='travelers', aggfunc='sum', \n",
        "    margins=True, margins_name='Total'\n",
        ")\n",
        "# reorder columns by order in the year\n",
        "pivot_table.insert(5, \"New Year's\", pivot_table.pop(\"New Year's\"))\n",
        "pivot_table"
      ]
    },
    {
      "cell_type": "markdown",
      "id": "335df96e",
      "metadata": {
        "editable": true,
        "slideshow": {
          "slide_type": "subslide"
        }
      },
      "source": [
        "Before moving on, let's reset the display option:"
      ]
    },
    {
      "cell_type": "code",
      "execution_count": null,
      "id": "2051b7d8",
      "metadata": {
        "editable": true,
        "slideshow": {
          "slide_type": ""
        }
      },
      "outputs": [],
      "source": [
        "pd.reset_option('display.float_format')"
      ]
    },
    {
      "cell_type": "markdown",
      "id": "237c4d15",
      "metadata": {
        "editable": true,
        "slideshow": {
          "slide_type": "fragment"
        }
      },
      "source": [
        "*Tip: Read more about options in the documentation [here](https://pandas.pydata.org/pandas-docs/stable/user_guide/options.html).*"
      ]
    },
    {
      "cell_type": "markdown",
      "id": "26ac1779",
      "metadata": {
        "editable": true,
        "slideshow": {
          "slide_type": ""
        }
      },
      "source": [
        "### [Exercise 2.3](./workbook.ipynb#Exercise-2.3)\n",
        "\n",
        "##### Using the meteorite data from the `Meteorite_Landings.csv` file, create a pivot table that shows both the number of meteorites and the 95th percentile of meteorite mass for those that were found versus observed falling per year from 2005 through 2009 (inclusive). Hint: Be sure to convert the `year` column to a number as we did in the previous exercise."
      ]
    },
    {
      "cell_type": "code",
      "execution_count": null,
      "id": "3e4a69d9",
      "metadata": {
        "editable": true,
        "slideshow": {
          "slide_type": ""
        }
      },
      "outputs": [],
      "source": [
        "# Complete this exercise in the workbook.ipynb file\n",
        "# Click on `Exercise 2.3` above to open the workbook.ipynb file\n",
        "\n",
        "# WARNING: if you complete the exercise here, your cell numbers\n",
        "# for the rest of the training might not match the slides"
      ]
    },
    {
      "cell_type": "markdown",
      "id": "ffa553d1",
      "metadata": {
        "editable": true,
        "slideshow": {
          "slide_type": "subslide"
        }
      },
      "source": [
        "### Crosstabs\n",
        "The `pd.crosstab()` function provides an easy way to create a frequency table. Here, we count the number of low-, medium-, and high-volume travel days per year, using the `pd.cut()` function to create three travel volume bins of equal width:"
      ]
    },
    {
      "cell_type": "code",
      "execution_count": null,
      "id": "78b65fe1",
      "metadata": {
        "editable": true,
        "slideshow": {
          "slide_type": ""
        }
      },
      "outputs": [],
      "source": [
        "pd.crosstab(\n",
        "    index=pd.cut(\n",
        "        tsa_melted_holiday_travel.travelers, \n",
        "        bins=3, labels=['low', 'medium', 'high']\n",
        "    ),\n",
        "    columns=tsa_melted_holiday_travel.year,\n",
        "    rownames=['travel_volume']\n",
        ")"
      ]
    },
    {
      "cell_type": "markdown",
      "id": "8f05eaa0",
      "metadata": {
        "editable": true,
        "slideshow": {
          "slide_type": "fragment"
        }
      },
      "source": [
        "*Tip: The `pd.cut()` function can also be used to specify custom bin ranges. For equal-sized bins based on quantiles, use the `pd.qcut()` function instead.*"
      ]
    },
    {
      "cell_type": "markdown",
      "id": "4afbc4bb",
      "metadata": {
        "editable": true,
        "slideshow": {
          "slide_type": "subslide"
        }
      },
      "source": [
        "Note that the `pd.crosstab()` function supports other aggregations provided you pass in the data to aggregate as `values` and specify the aggregation with `aggfunc`. You can also add subtotals and normalize the data. See the [documentation](https://pandas.pydata.org/pandas-docs/stable/reference/api/pandas.crosstab.html) for more information."
      ]
    },
    {
      "cell_type": "markdown",
      "id": "26d1f261",
      "metadata": {
        "editable": true,
        "slideshow": {
          "slide_type": "subslide"
        }
      },
      "source": [
        "### Group by operations\n",
        "Rather than perform aggregations, like `mean()` or `describe()`, on the full dataset at once, we can perform these calculations per group by first calling `groupby()`:"
      ]
    },
    {
      "cell_type": "code",
      "execution_count": null,
      "id": "0246ffd5",
      "metadata": {
        "editable": true,
        "slideshow": {
          "slide_type": ""
        }
      },
      "outputs": [],
      "source": [
        "tsa_melted_holiday_travel.groupby('year').describe(include=np.number)"
      ]
    },
    {
      "cell_type": "markdown",
      "id": "6ba524c2",
      "metadata": {
        "editable": true,
        "slideshow": {
          "slide_type": "subslide"
        }
      },
      "source": [
        "Groups can also be used to perform separate calculations per subset of the data. For example, we can find the highest-volume travel day per year using `rank()`:"
      ]
    },
    {
      "cell_type": "code",
      "execution_count": null,
      "id": "9c5cfd8c",
      "metadata": {
        "editable": true,
        "slideshow": {
          "slide_type": ""
        }
      },
      "outputs": [],
      "source": [
        "tsa_melted_holiday_travel.assign(\n",
        "    travel_volume_rank=lambda x: x.groupby('year').travelers.rank(ascending=False)\n",
        ").sort_values(['travel_volume_rank', 'year']).head(3)"
      ]
    },
    {
      "cell_type": "markdown",
      "id": "504b2942",
      "metadata": {
        "editable": true,
        "slideshow": {
          "slide_type": "subslide"
        }
      },
      "source": [
        "The previous two examples called a single method on the grouped data, but using the `agg()` method we can specify any number of them:"
      ]
    },
    {
      "cell_type": "code",
      "execution_count": null,
      "id": "32743f21",
      "metadata": {
        "editable": true,
        "slideshow": {
          "slide_type": ""
        }
      },
      "outputs": [],
      "source": [
        "tsa_melted_holiday_travel.assign(\n",
        "    holiday_travelers=lambda x: np.where(~x.holiday.isna(), x.travelers, np.nan),\n",
        "    non_holiday_travelers=lambda x: np.where(x.holiday.isna(), x.travelers, np.nan),\n",
        "    year=lambda x: pd.to_numeric(x.year)\n",
        ").select_dtypes(include='number').groupby('year').agg(['mean', 'std'])"
      ]
    },
    {
      "cell_type": "markdown",
      "id": "9eaeaac7",
      "metadata": {
        "editable": true,
        "slideshow": {
          "slide_type": "fragment"
        }
      },
      "source": [
        "*Tip: The `select_dtypes()` method makes it possible to select columns by their data type. We can specify the data types to `exclude` and/or `include`.*"
      ]
    },
    {
      "cell_type": "markdown",
      "id": "e2ac39c9",
      "metadata": {
        "editable": true,
        "slideshow": {
          "slide_type": "subslide"
        }
      },
      "source": [
        "In addition, we can specify which aggregations to perform on each column:"
      ]
    },
    {
      "cell_type": "code",
      "execution_count": null,
      "id": "373a3ba2",
      "metadata": {
        "editable": true,
        "slideshow": {
          "slide_type": ""
        }
      },
      "outputs": [],
      "source": [
        "tsa_melted_holiday_travel.assign(\n",
        "    holiday_travelers=lambda x: np.where(~x.holiday.isna(), x.travelers, np.nan),\n",
        "    non_holiday_travelers=lambda x: np.where(x.holiday.isna(), x.travelers, np.nan)\n",
        ").groupby('year').agg({\n",
        "    'holiday_travelers': ['mean', 'std'], \n",
        "    'holiday': ['nunique', 'count']\n",
        "})"
      ]
    },
    {
      "cell_type": "markdown",
      "id": "746c7eec",
      "metadata": {
        "editable": true,
        "slideshow": {
          "slide_type": "subslide"
        }
      },
      "source": [
        "We are only scratching the surface; some additional functionalities to be aware of include the following:\n",
        "- We can group by multiple columns &ndash; this creates a hierarchical index.\n",
        "- Groups can be excluded from calculations with the `filter()` method.\n",
        "- We can group on content in the index using the `level` or `name` parameters e.g., `groupby(level=0)` or `groupby(name='year')`.\n",
        "- We can group by date ranges if we use a `pd.Grouper()` object."
      ]
    },
    {
      "cell_type": "markdown",
      "id": "6d57ffb5",
      "metadata": {
        "editable": true,
        "slideshow": {
          "slide_type": "fragment"
        }
      },
      "source": [
        "Be sure to check out the [documentation](https://pandas.pydata.org/pandas-docs/stable/reference/api/pandas.DataFrame.groupby.html) for more details."
      ]
    },
    {
      "cell_type": "markdown",
      "id": "0d755eb1",
      "metadata": {
        "editable": true,
        "slideshow": {
          "slide_type": ""
        }
      },
      "source": [
        "### [Exercise 2.4](./workbook.ipynb#Exercise-2.4)\n",
        "\n",
        "##### Using the meteorite data from the `Meteorite_Landings.csv` file, compare summary statistics of the mass column for the meteorites that were found versus observed falling."
      ]
    },
    {
      "cell_type": "code",
      "execution_count": null,
      "id": "95b0ddd4",
      "metadata": {
        "editable": true,
        "slideshow": {
          "slide_type": ""
        }
      },
      "outputs": [],
      "source": [
        "# Complete this exercise in the workbook.ipynb file\n",
        "# Click on `Exercise 2.4` above to open the workbook.ipynb file\n",
        "\n",
        "# WARNING: if you complete the exercise here, your cell numbers\n",
        "# for the rest of the training might not match the slides"
      ]
    },
    {
      "cell_type": "markdown",
      "id": "c48e4b28",
      "metadata": {
        "editable": true,
        "slideshow": {
          "slide_type": "slide"
        }
      },
      "source": [
        "## Time series\n",
        "\n",
        "When working with time series data, pandas provides us with additional functionality to not just compare the observations in our dataset, but to use their relationship in time to analyze the data. In this section, we will see a few such operations for selecting date/time ranges, calculating changes over time, performing window calculations, and resampling the data to different date/time intervals."
      ]
    },
    {
      "cell_type": "markdown",
      "id": "78a5d4ab",
      "metadata": {
        "editable": true,
        "slideshow": {
          "slide_type": "subslide"
        }
      },
      "source": [
        "### Selecting based on date and time\n",
        "\n",
        "Let's switch back to the `taxis` dataset, which has timestamps of pickups and dropoffs. First, we will set the `dropoff` column as the index and sort the data:"
      ]
    },
    {
      "cell_type": "code",
      "execution_count": null,
      "id": "f5c1b36d",
      "metadata": {
        "editable": true,
        "slideshow": {
          "slide_type": ""
        }
      },
      "outputs": [],
      "source": [
        "taxis = taxis.set_index('dropoff').sort_index()"
      ]
    },
    {
      "cell_type": "markdown",
      "id": "65d85e17",
      "metadata": {
        "editable": true,
        "slideshow": {
          "slide_type": "subslide"
        }
      },
      "source": [
        "We saw earlier that we can slice on the datetimes:"
      ]
    },
    {
      "cell_type": "code",
      "execution_count": null,
      "id": "d8b9363b",
      "metadata": {
        "editable": true,
        "slideshow": {
          "slide_type": ""
        }
      },
      "outputs": [],
      "source": [
        "taxis['2019-10-24 12':'2019-10-24 13']"
      ]
    },
    {
      "cell_type": "markdown",
      "id": "33c30c0a",
      "metadata": {
        "editable": true,
        "slideshow": {
          "slide_type": "subslide"
        }
      },
      "source": [
        "We can also represent this range with shorthand. Note that we must use `loc[]` here:"
      ]
    },
    {
      "cell_type": "code",
      "execution_count": null,
      "id": "ba7d5721",
      "metadata": {
        "editable": true,
        "slideshow": {
          "slide_type": ""
        }
      },
      "outputs": [],
      "source": [
        "taxis.loc['2019-10-24 12']"
      ]
    },
    {
      "cell_type": "markdown",
      "id": "7af6d005",
      "metadata": {
        "editable": true,
        "slideshow": {
          "slide_type": "fragment"
        }
      },
      "source": [
        "However, if we want to look at this time range across days, we need another strategy."
      ]
    },
    {
      "cell_type": "markdown",
      "id": "091bd090",
      "metadata": {
        "editable": true,
        "slideshow": {
          "slide_type": "subslide"
        }
      },
      "source": [
        "We can pull out the dropoffs that happened between a certain time range on *any* day with the `between_time()` method:"
      ]
    },
    {
      "cell_type": "code",
      "execution_count": null,
      "id": "4b8f9137",
      "metadata": {
        "editable": true,
        "slideshow": {
          "slide_type": ""
        }
      },
      "outputs": [],
      "source": [
        "taxis.between_time('12:00', '13:00')"
      ]
    },
    {
      "cell_type": "markdown",
      "id": "416d5c80",
      "metadata": {
        "editable": true,
        "slideshow": {
          "slide_type": "fragment"
        }
      },
      "source": [
        "*Tip: The `at_time()` method can be used to extract all entries at a given time (e.g., 12:35:27).*"
      ]
    },
    {
      "cell_type": "markdown",
      "id": "2012281d",
      "metadata": {
        "editable": true,
        "slideshow": {
          "slide_type": "subslide"
        }
      },
      "source": [
        "For the rest of this section, we will be working with the TSA traveler throughput data. Let's start by setting the index to the `date` column:"
      ]
    },
    {
      "cell_type": "code",
      "execution_count": null,
      "id": "64f17fa1",
      "metadata": {
        "editable": true,
        "slideshow": {
          "slide_type": ""
        }
      },
      "outputs": [],
      "source": [
        "tsa_melted_holiday_travel = tsa_melted_holiday_travel.set_index('date')"
      ]
    },
    {
      "cell_type": "markdown",
      "id": "caadf760",
      "metadata": {
        "editable": true,
        "slideshow": {
          "slide_type": "subslide"
        }
      },
      "source": [
        "### Calculating change over time"
      ]
    },
    {
      "cell_type": "code",
      "execution_count": null,
      "id": "60aa4bef",
      "metadata": {
        "editable": true,
        "slideshow": {
          "slide_type": ""
        }
      },
      "outputs": [],
      "source": [
        "tsa_melted_holiday_travel.loc['2020'].assign(\n",
        "    one_day_change=lambda x: x.travelers.diff(),\n",
        "    seven_day_change=lambda x: x.travelers.diff(7),\n",
        ").head(10)"
      ]
    },
    {
      "cell_type": "markdown",
      "id": "4ef23383",
      "metadata": {
        "editable": true,
        "slideshow": {
          "slide_type": ""
        }
      },
      "source": [
        "*Tip: To perform operations other than subtraction, take a look at the `shift()` method. It also makes it possible to perform operations across columns.*"
      ]
    },
    {
      "cell_type": "markdown",
      "id": "cd00e0c0",
      "metadata": {
        "editable": true,
        "slideshow": {
          "slide_type": "subslide"
        }
      },
      "source": [
        "### Resampling\n",
        "We can use resampling to aggregate time series data to a new [frequency](https://pandas.pydata.org/pandas-docs/stable/user_guide/timeseries.html#offset-aliases):"
      ]
    },
    {
      "cell_type": "code",
      "execution_count": null,
      "id": "6166527c",
      "metadata": {
        "editable": true,
        "slideshow": {
          "slide_type": ""
        }
      },
      "outputs": [],
      "source": [
        "tsa_melted_holiday_travel['2019':'2021-Q1'].select_dtypes(include='number')\\\n",
        "    .resample('QE').agg(['sum', 'mean', 'std'])"
      ]
    },
    {
      "cell_type": "markdown",
      "id": "962e2266",
      "metadata": {
        "editable": true,
        "slideshow": {
          "slide_type": "subslide"
        }
      },
      "source": [
        "### Window calculations\n",
        "\n",
        "Window calculations are similar to group by calculations except the group over which the calculation is performed isn't static &ndash; it can move or expand. Pandas provides functionality for constructing a variety of windows, including moving/rolling windows, expanding windows (e.g., cumulative sum or mean up to the current date in a time series), and exponentially weighted moving windows (to weight closer observations more than further ones). We will only look at rolling and expanding calculations here."
      ]
    },
    {
      "cell_type": "markdown",
      "id": "a29f4d7f",
      "metadata": {
        "editable": true,
        "slideshow": {
          "slide_type": "subslide"
        }
      },
      "source": [
        "Performing a window calculation is very similar to a group by calculation &ndash; we first define the window, and then we specify the aggregation:"
      ]
    },
    {
      "cell_type": "code",
      "execution_count": null,
      "id": "24badbec",
      "metadata": {
        "editable": true,
        "slideshow": {
          "slide_type": ""
        }
      },
      "outputs": [],
      "source": [
        "tsa_melted_holiday_travel.loc['2020'].assign(\n",
        "    **{\n",
        "        '7D MA': lambda x: x.rolling('7D').travelers.mean(),\n",
        "        'YTD mean': lambda x: x.expanding().travelers.mean()\n",
        "      }\n",
        ").head(10)"
      ]
    },
    {
      "cell_type": "markdown",
      "id": "b808d303",
      "metadata": {
        "editable": true,
        "slideshow": {
          "slide_type": "subslide"
        }
      },
      "source": [
        "To understand what's happening, it's best to visualize the original data and the result, so here's a sneak peek of plotting with pandas. First, some setup to embed SVG plots in the notebook:"
      ]
    },
    {
      "cell_type": "code",
      "execution_count": null,
      "id": "00f72002",
      "metadata": {
        "editable": true,
        "slideshow": {
          "slide_type": ""
        }
      },
      "outputs": [],
      "source": [
        "import matplotlib_inline\n",
        "from utils import mpl_svg_config\n",
        "\n",
        "matplotlib_inline.backend_inline.set_matplotlib_formats(\n",
        "    'svg', # output images using SVG format\n",
        "    **mpl_svg_config('section-2') # optional: configure metadata\n",
        ")"
      ]
    },
    {
      "cell_type": "markdown",
      "id": "4b0fc6ac",
      "metadata": {
        "editable": true,
        "slideshow": {
          "slide_type": ""
        }
      },
      "source": [
        "*Tip: For most use cases, only the first argument is necessary &ndash; we will discuss the second argument in more detail in the next section.*"
      ]
    },
    {
      "cell_type": "markdown",
      "id": "b5a0d3ff",
      "metadata": {
        "editable": true,
        "slideshow": {
          "slide_type": "subslide"
        }
      },
      "source": [
        "Now, we call the `plot()` method to visualize the data:"
      ]
    },
    {
      "cell_type": "code",
      "execution_count": null,
      "id": "3698f63b",
      "metadata": {
        "editable": true,
        "slideshow": {
          "slide_type": ""
        }
      },
      "outputs": [],
      "source": [
        "_ = tsa_melted_holiday_travel.loc['2020'].assign(\n",
        "    **{\n",
        "        '7D MA': lambda x: x.rolling('7D').travelers.mean(),\n",
        "        'YTD mean': lambda x: x.expanding().travelers.mean()\n",
        "      }\n",
        ").plot(title='2020 TSA Traveler Throughput', ylabel='travelers', alpha=0.8)"
      ]
    },
    {
      "cell_type": "markdown",
      "id": "b0437e97",
      "metadata": {
        "editable": true,
        "slideshow": {
          "slide_type": "subslide"
        }
      },
      "source": [
        "Other types of windows:\n",
        "- [exponentially weighted moving](https://pandas.pydata.org/pandas-docs/stable/reference/api/pandas.DataFrame.ewm.html): use the `ewm()` method\n",
        "- [custom](https://pandas.pydata.org/docs/user_guide/window.html#window-custom-rolling-window): create a subclass of `pandas.api.indexers.BaseIndexer` or use a pre-built one in `pandas.api.indexers`"
      ]
    },
    {
      "cell_type": "markdown",
      "id": "f38e82df",
      "metadata": {
        "editable": true,
        "slideshow": {
          "slide_type": ""
        }
      },
      "source": [
        "### [Exercise 2.5](./workbook.ipynb#Exercise-2.5)\n",
        "\n",
        "##### Using the taxi trip data in the `2019_Yellow_Taxi_Trip_Data.csv` file, resample the data to an hourly frequency based on the dropoff time. Calculate the total `trip_distance`, `fare_amount`, `tolls_amount`, and `tip_amount`, then find the 5 hours with the most tips."
      ]
    },
    {
      "cell_type": "code",
      "execution_count": null,
      "id": "0e357394",
      "metadata": {
        "editable": true,
        "slideshow": {
          "slide_type": ""
        }
      },
      "outputs": [],
      "source": [
        "# Complete this exercise in the workbook.ipynb file\n",
        "# Click on `Exercise 2.5` above to open the workbook.ipynb file"
      ]
    },
    {
      "cell_type": "markdown",
      "id": "29635214",
      "metadata": {
        "editable": true,
        "slideshow": {
          "slide_type": "slide"
        }
      },
      "source": [
        "## Up Next: [Data Visualization](./3-data_visualization.ipynb)"
      ]
    }
  ],
  "metadata": {
    "kernelspec": {
      "display_name": "Python 3 (ipykernel)",
      "language": "python",
      "name": "python3"
    }
  },
  "nbformat": 4,
  "nbformat_minor": 5
}
