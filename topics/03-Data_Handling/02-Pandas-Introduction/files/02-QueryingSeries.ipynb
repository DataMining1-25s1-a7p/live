{
  "cells": [
    {
      "cell_type": "markdown",
      "id": "9996479a",
      "metadata": {},
      "source": [
        "# Querying `Series`\n",
        "\n",
        "Now that we have seen how to create a Series and how data is represented in one, we will want to apply operations like searching for values in the series. In this notebook we conside the structure of the Series, how to query and merge Series objects together, and the importance of thinking about parallelization when engaging in data science programming.\n",
        "\n",
        "A pandas Series can be queried either by the index position or the index label. If you don't give an index to the series when querying, the position and the label are effectively the same values. To query by numeric location, starting at zero, use the iloc attribute. To query by the index label, you can use the loc attribute. "
      ]
    },
    {
      "cell_type": "code",
      "execution_count": null,
      "id": "8cb167fd",
      "metadata": {},
      "outputs": [],
      "source": [
        "# Lets start with an example. We'll use students enrolled in classes coming from a dictionary\n",
        "import pandas as pd\n",
        "students_classes = {'Alice': 'Programming',\n",
        "                   'Bob': 'Cryptography',\n",
        "                   'Carol': 'Networking',\n",
        "                   'Dave': 'Databases'}\n",
        "s = pd.Series(students_classes)\n",
        "s"
      ]
    },
    {
      "cell_type": "code",
      "execution_count": null,
      "id": "755ea7c3",
      "metadata": {},
      "outputs": [],
      "source": [
        "# So, for this series, if you wanted to see the fourth entry we would we would use the iloc \n",
        "# attribute with the parameter 3.\n",
        "s.iloc[3]"
      ]
    },
    {
      "cell_type": "code",
      "execution_count": null,
      "id": "ab92cf43",
      "metadata": {},
      "outputs": [],
      "source": [
        "# If you wanted to see what class Carol has, we would use the loc attribute with a parameter \n",
        "# of Carol.\n",
        "s.loc['Carol']"
      ]
    },
    {
      "cell_type": "markdown",
      "id": "31dffcaa",
      "metadata": {},
      "source": [
        "__Important__ Note that `iloc` and `loc` are not methods, they are attributes. So you don't use parentheses to query them, but square brackets instead, which is called the indexing operator. This calls a getter or setter for an item depending on the context of its use.\n",
        "\n",
        "This might seem confusing if you are used to languages, such as Java, where encapsulation of attributes, variables, and properties is common.\n",
        "\n",
        "Pandas tries to make our code a bit more readable and provides a sort of smart syntax using the indexing operator directly on the series itself. For instance, if you pass in an integer parameter, the operator will behave as if (infer!) you want it to query via the iloc attribute. That said, this facility can lead to confusion and will be removed in a future version of pandas."
      ]
    },
    {
      "cell_type": "code",
      "execution_count": null,
      "id": "fd9bbd26",
      "metadata": {},
      "outputs": [],
      "source": [
        "s[3]"
      ]
    },
    {
      "cell_type": "markdown",
      "id": "859660e2",
      "metadata": {},
      "source": [
        "This also raises an important point:\n",
        "\n",
        "__Nearly all machine learning libraries are being developed actively. APIs and language features are subject to change. Some of those changes can break existing code. Deprecation warnings require attention to avoid future difficulties. You have been warned!__"
      ]
    },
    {
      "cell_type": "code",
      "execution_count": null,
      "id": "08379f13",
      "metadata": {},
      "outputs": [],
      "source": [
        "# If you pass in an object, it will query as if you wanted to use the label based loc attribute.\n",
        "s['Carol']"
      ]
    },
    {
      "cell_type": "markdown",
      "id": "63cf470e",
      "metadata": {},
      "source": [
        "So what happens if your index is a list of integers? This is a bit complicated and Pandas can't determine automatically whether you're intending to query by index position or index label. So \n",
        "you need to be careful when using the indexing operator on the Series itself. The safer option is to be more explicit and use the iloc or loc attributes directly.\n",
        "\n",
        "Here's an example using class and their classcode information, where classes are indexed by classcodes, in the form of integers"
      ]
    },
    {
      "cell_type": "code",
      "execution_count": null,
      "id": "a3232e8a",
      "metadata": {},
      "outputs": [],
      "source": [
        "class_code = {99: 'Programming',\n",
        "              100: 'Cryptography',\n",
        "              101: 'Networking',\n",
        "              102: 'Databases'}\n",
        "s = pd.Series(class_code)"
      ]
    },
    {
      "cell_type": "markdown",
      "id": "e2c850b9",
      "metadata": {},
      "source": [
        "If we try and call s[0] we get a key error because there's no item in the classes list with an index of zero, instead we have to call iloc explicitly if we want the first item."
      ]
    },
    {
      "cell_type": "code",
      "execution_count": null,
      "id": "7bb9f840",
      "metadata": {
        "tags": [
          "raises-exception"
        ]
      },
      "outputs": [],
      "source": [
        "s[0] "
      ]
    },
    {
      "cell_type": "markdown",
      "id": "db0b36d4",
      "metadata": {},
      "source": [
        "So, that didn't call s.iloc[0] underneath as one might expect, instead it \n",
        "generates an error.\n",
        "\n",
        "Now we know how to get data out of the series, how about working with the data. A common task is to want to consider all of the values inside of a series and do some sort of operation. This could be trying to find a certain number, or summarizing data or transforming the data in some way.\n",
        "\n",
        "A typical programmatic approach to this would be to iterate over all the items in the series, and invoke the operation one is interested in. For instance, we could create a Series of integers representing student grades, and just try and get an average grade"
      ]
    },
    {
      "cell_type": "code",
      "execution_count": null,
      "id": "5470bdcb",
      "metadata": {},
      "outputs": [],
      "source": [
        "grades = pd.Series([90, 80, 70, 60])\n",
        "\n",
        "total = 0\n",
        "for grade in grades:\n",
        "    total+=grade\n",
        "print(total/len(grades))"
      ]
    },
    {
      "cell_type": "markdown",
      "id": "d28839af",
      "metadata": {},
      "source": [
        "This works, but it's slow. Modern computers can do many tasks simultaneously, especially, but not only, mathematical computation on collections of numbers.\n",
        "\n",
        "Pandas and the underlying numpy libraries support a method of computation called vectorization. Vectorization works with most of the functions in the numpy library, including the sum function.\n",
        "\n",
        "Here's how we would rewrite the code using the numpy `sum()` method. First we need to import the numpy module"
      ]
    },
    {
      "cell_type": "code",
      "execution_count": null,
      "id": "23fd145f",
      "metadata": {},
      "outputs": [],
      "source": [
        "import numpy as np\n",
        "\n",
        "# Then we just call np.sum and pass in an iterable item.\n",
        "# In this case, our panda series.\n",
        "\n",
        "total = np.sum(grades)\n",
        "print(total/len(grades))"
      ]
    },
    {
      "cell_type": "markdown",
      "id": "09ab84ac",
      "metadata": {},
      "source": [
        "Now both of these methods create the same value, but is one actually faster? The Jupyter Notebook has a magic function which can help. \n",
        "\n",
        "First, let's create a big series of random numbers. This is used a lot when demonstrating techniques with Pandas"
      ]
    },
    {
      "cell_type": "code",
      "execution_count": null,
      "id": "8888e820",
      "metadata": {},
      "outputs": [],
      "source": [
        "numbers = pd.Series(np.random.randint(0,1000,10000))"
      ]
    },
    {
      "cell_type": "markdown",
      "id": "3c834465",
      "metadata": {},
      "source": [
        "Now lets look at the top five items in that series to make sure they actually seem random. We can do this with the `head()` function"
      ]
    },
    {
      "cell_type": "code",
      "execution_count": null,
      "id": "acf4a806",
      "metadata": {},
      "outputs": [],
      "source": [
        "numbers.head()"
      ]
    },
    {
      "cell_type": "markdown",
      "id": "87b39d3e",
      "metadata": {},
      "source": [
        "We can actually verify that length of the series is correct using the len function"
      ]
    },
    {
      "cell_type": "code",
      "execution_count": null,
      "id": "aaebe322",
      "metadata": {},
      "outputs": [],
      "source": [
        "len(numbers)"
      ]
    },
    {
      "cell_type": "markdown",
      "id": "ee31dc59",
      "metadata": {},
      "source": [
        "Ok, we're confident now that we have a big series. The interpreter has something called __magic functions__ that begin with a percentage sign. If we type this sign and then hit the Tab key, you can see a list of the available magic functions. You could write your own magic functions too, \n",
        "but that is out of scope....\n",
        "\n",
        "A __cellular magic function__ starts with two \n",
        "percentage signs and applies to the code in the current notebook cell. The function we use is called `timeit`. This function will run our code a few times to determine, on average, how long it takes.\n",
        "\n",
        "Let's run `timeit` with our original iterative code. You can give timeit the number of loops that you would like to run. By default, it is 1,000 loops. For this purpose, 100 runs is sufficient. Note that in order to use a cellular magic function, it has to be the first line in the cell."
      ]
    },
    {
      "cell_type": "code",
      "execution_count": null,
      "id": "dbbf558e",
      "metadata": {},
      "outputs": [],
      "source": [
        "%%timeit -n 100\n",
        "total = 0\n",
        "for number in numbers:\n",
        "    total+=number\n",
        "\n",
        "total/len(numbers)"
      ]
    },
    {
      "cell_type": "markdown",
      "id": "42d62015",
      "metadata": {},
      "source": [
        "Timeit ran the code and it doesn't seem to take very long. Will vectorization do better?"
      ]
    },
    {
      "cell_type": "code",
      "execution_count": null,
      "id": "5d892d36",
      "metadata": {},
      "outputs": [],
      "source": [
        "%%timeit -n 100\n",
        "total = np.sum(numbers)\n",
        "total/len(numbers)"
      ]
    },
    {
      "cell_type": "markdown",
      "id": "e562add4",
      "metadata": {},
      "source": [
        "On my machine, vectorization is 10-15 times faster than loop code. Students should look for vectorisation opportunities, favour parallel computing features and start thinking in functional programming terms.\n",
        "\n",
        "Vectorization allows the computer to execute multiple instructions\n",
        "at once, and with high performance chips, especially graphics cards, you can get dramaticspeedups. Modern graphics cards can run thousands of instructions in parallel.\n",
        "\n",
        "A Related feature in pandas and numpy is called _broadcasting_. With broadcasting, you can apply an operation to every value in the series, changing the series. For instance, if we wanted to increase every random variable by 2, we could do so quickly using the += operator \n",
        "directly on the Series object. "
      ]
    },
    {
      "cell_type": "code",
      "execution_count": null,
      "id": "4de3c504",
      "metadata": {},
      "outputs": [],
      "source": [
        "# Let's look at the head of our series\n",
        "numbers.head()"
      ]
    },
    {
      "cell_type": "code",
      "execution_count": null,
      "id": "9320bfed",
      "metadata": {},
      "outputs": [],
      "source": [
        "# And now lets just increase everything in the series by 2\n",
        "numbers+=2\n",
        "numbers.head()"
      ]
    },
    {
      "cell_type": "markdown",
      "id": "07cfe899",
      "metadata": {},
      "source": [
        "The procedural way of doing this would be to iterate through all of the items in the series and increase the values directly. Pandas does support iterating through a series much like a dictionary, allowing you to unpack values easily."
      ]
    },
    {
      "cell_type": "code",
      "execution_count": null,
      "id": "f03a4984",
      "metadata": {},
      "outputs": [],
      "source": [
        "# We can use the items() function which returns a label and value \n",
        "for label, value in numbers.items():\n",
        "    # in the early version of pandas we would use the set_value() function\n",
        "    # in the current version, we use the iat() or at() functions,\n",
        "    numbers.iat[label]= value+2\n",
        "# And we can check the result of this computation\n",
        "numbers.head()"
      ]
    },
    {
      "cell_type": "markdown",
      "id": "27229d1f",
      "metadata": {},
      "source": [
        "So the result is the same, though you may notice a warning depending upon the version of\n",
        "pandas being used. But if you find yourself iterating pretty much *any time* in pandas,\n",
        "you should question whether you're doing things in the best possible way.\n",
        "\n",
        "Lets take a look at some speed comparisons. First, lets try five loops using the iterative approach"
      ]
    },
    {
      "cell_type": "code",
      "execution_count": null,
      "id": "712d2552",
      "metadata": {},
      "outputs": [],
      "source": [
        "%%timeit -n 10\n",
        "# we'll create a blank new series of items to deal with\n",
        "s = pd.Series(np.random.randint(0,1000,1000))\n",
        "# And we'll just rewrite our loop from above.\n",
        "for label, value in s.items():\n",
        "    s.loc[label]= value+2"
      ]
    },
    {
      "cell_type": "markdown",
      "id": "eb25db11",
      "metadata": {},
      "source": [
        "Now lets try that using the broadcasting methods"
      ]
    },
    {
      "cell_type": "code",
      "execution_count": null,
      "id": "fc956a86",
      "metadata": {},
      "outputs": [],
      "source": [
        "%%timeit -n 10\n",
        "# We need to recreate a series\n",
        "s = pd.Series(np.random.randint(0,1000,1000))\n",
        "# And we just broadcast with +=\n",
        "s+=2"
      ]
    },
    {
      "cell_type": "markdown",
      "id": "66b6b926",
      "metadata": {},
      "source": [
        "This is a dramatic improvement - over 100 times faster on my hardware. Not only is it significantly faster, but it is more concise and easier to read too. The typical mathematical operations you would expect are vectorized, and the numpy documentation outlines what it takes to create vectorized functions of your own. \n",
        "\n",
        "One last note on using the indexing operators to access series data. The .loc attribute lets \n",
        "you not only modify data in place, but also add new data as well. If the value you pass in as \n",
        "the index doesn't exist, then a new entry is added. And keep in mind, indices can have mixed types. \n",
        "While it's important to be aware of the typing going on underneath, Pandas will automatically \n",
        "change the underlying NumPy types as appropriate."
      ]
    },
    {
      "cell_type": "code",
      "execution_count": null,
      "id": "6ac68017",
      "metadata": {},
      "outputs": [],
      "source": [
        "# Here's an example using a Series of a few numbers. \n",
        "s = pd.Series([1, 2, 3])\n",
        "\n",
        "# We could add some new value, maybe a university course\n",
        "s.loc['Databases'] = 102\n",
        "\n",
        "s"
      ]
    },
    {
      "cell_type": "markdown",
      "id": "795c63db",
      "metadata": {},
      "source": [
        "We see that mixed types for data values or index labels are no problem for Pandas. Since \"History\" is not in the original list of index values, `s.loc['Databases']` essentially creates a new element in the series, with the index named \"Databases\", and the value of 102\n",
        "\n",
        "_What happens if the index values are not unique?_\n",
        "\n",
        "In this regard, a pandas Series operates differently to a relational database."
      ]
    },
    {
      "cell_type": "code",
      "execution_count": null,
      "id": "b4083fff",
      "metadata": {},
      "outputs": [],
      "source": [
        "# Lets create a Series with students and the courses which they have taken\n",
        "students_classes = pd.Series({'Alice': 'Programming',\n",
        "                   'Bob': 'Cryptography',\n",
        "                   'Carol': 'Networking',\n",
        "                   'Dave': 'Databases'})\n",
        "students_classes"
      ]
    },
    {
      "cell_type": "markdown",
      "id": "876351af",
      "metadata": {},
      "source": [
        "Now lets create a Series just for some new student Eve, which lists all of the courses she has taken. We set the index to Eve for all the courses, and the data to be the names of courses."
      ]
    },
    {
      "cell_type": "code",
      "execution_count": null,
      "id": "a527518e",
      "metadata": {},
      "outputs": [],
      "source": [
        "eve_classes = pd.Series(['Philosophy', 'Arts', 'Maths'], index=['Eve', 'Eve', 'Eve'])\n",
        "eve_classes"
      ]
    },
    {
      "cell_type": "markdown",
      "id": "864c0095",
      "metadata": {},
      "source": [
        "Finally, we can append all of the data in this new Series to the first using the `pd.concat()` function."
      ]
    },
    {
      "cell_type": "code",
      "execution_count": null,
      "id": "4cba3e6a",
      "metadata": {},
      "outputs": [],
      "source": [
        "# This code is deprecated!!\n",
        "#all_students_classes = students_classes.append(eve_classes)\n",
        "\n",
        "all_students_classes = pd.concat([students_classes, eve_classes])\n",
        "\n",
        "# This creates a series which has our original people in it as well as all of Kelly's courses\n",
        "all_students_classes"
      ]
    },
    {
      "cell_type": "markdown",
      "id": "af609e37",
      "metadata": {},
      "source": [
        "There are a couple of important considerations when concatenating series. First, Pandas will take the series and try to infer the best data types to use. In this example, everything is a string, so thereare no datatype inconsistencies. Second, the concat method returns a new series which is made up of the two appended together. This is a common pattern in pandas - by default returning a new object instead of modifying in place - and\n",
        "one you should come to expect.\n",
        "\n",
        "Previously, it was possible to use `.append()` on the first series but that could be confusing, because the result did not change the original series - it created a new one which needed to be stored in a `all_student_classes`."
      ]
    },
    {
      "cell_type": "markdown",
      "id": "32430293",
      "metadata": {},
      "source": [
        "Finally, we see that when we query the appended series for Eve, we don't get a single value, but a series (the rows asociated with Eve). "
      ]
    },
    {
      "cell_type": "code",
      "execution_count": null,
      "id": "3d768f56",
      "metadata": {},
      "outputs": [],
      "source": [
        "all_students_classes.loc['Eve']"
      ]
    },
    {
      "cell_type": "markdown",
      "id": "36b0781b",
      "metadata": {},
      "source": [
        "## Summary\n",
        "\n",
        "We've seen how to query the Series, with `.loc` and `.iloc`, that the Series is an indexed data structure, how to merge two Series objects together with `pd.concat()`, and the importance of vectorization.\n",
        "\n",
        "There is a lot more to Series, but the real strength of Pandas is its  two-dimensional data structure, the DataFrame. The DataFrame is very similar to the series object, but includes multiple columns of data, and is the structure that you'll spend the majority of your time working with when cleaning and aggregating data."
      ]
    },
    {
      "cell_type": "code",
      "execution_count": null,
      "id": "f8b3ff6c",
      "metadata": {},
      "outputs": [],
      "source": []
    }
  ],
  "metadata": {
    "kernelspec": {
      "display_name": "Python 3 (ipykernel)",
      "language": "python",
      "name": "python3"
    }
  },
  "nbformat": 4,
  "nbformat_minor": 5
}
