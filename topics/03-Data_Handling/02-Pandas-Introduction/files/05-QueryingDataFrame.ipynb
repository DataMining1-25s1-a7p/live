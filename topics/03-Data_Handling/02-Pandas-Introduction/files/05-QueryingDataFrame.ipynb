{
  "cells": [
    {
      "cell_type": "markdown",
      "id": "fcc020cf",
      "metadata": {},
      "source": [
        "# Querying `DataFrame`\n",
        "\n",
        "In this lecture we're going to talk about querying DataFrames. The first step in the process is to understand Boolean masking. Boolean masking is the heart of fast and efficient querying in numpy and pandas, and it's analogous to bit masking used in other areas of computational science. By the end of this lecture you'll understand how Boolean masking works, and how to apply this to a DataFrame to get out data you're interested in.\n",
        "\n",
        "A Boolean mask is an array which can be of one dimension like a series, or two dimensions like a data frame, where each of the values in the array are either true or false. This array is essentially overlaid on top of the data structure that we're querying. And any cell aligned with the true value will be admitted into our final result, and any cell aligned with a false value will not.\n",
        "\n",
        "Let's start with an example and import our graduate admission dataset. First we'll bring in pandas"
      ]
    },
    {
      "cell_type": "code",
      "execution_count": null,
      "id": "6c6f5a2c",
      "metadata": {},
      "outputs": [],
      "source": [
        "import pandas as pd\n",
        "# Then we'll load in our CSV file\n",
        "df = pd.read_csv('data/Admission_Predict.csv', index_col=0)\n",
        "# And we'll clean up a couple of poorly named columns like we did in a previous lecture\n",
        "df.columns = [x.lower().strip() for x in df.columns]\n",
        "# And we'll take a look at the results\n",
        "df.head()"
      ]
    },
    {
      "cell_type": "markdown",
      "id": "78391e8b",
      "metadata": {},
      "source": [
        "Boolean masks are created by applying operators directly to the pandas Series or DataFrame objects. \n",
        "For instance, in our graduate admission dataset, we might be interested in seeing only those students \n",
        "that have a chance higher than 0.7\n",
        "\n",
        "To build a Boolean mask for this query, we want to project the `chance of admit` column using the \n",
        "indexing operator and apply the greater than operator with a comparison value of 0.7. This is \n",
        "essentially broadcasting a comparison operator, greater than, with the results being returned as \n",
        "a Boolean Series. The resultant Series is indexed where the value of each cell is either True or False \n",
        "depending on whether a student has a `chance of admit` higher than 0.7"
      ]
    },
    {
      "cell_type": "code",
      "execution_count": null,
      "id": "241c1c53",
      "metadata": {},
      "outputs": [],
      "source": [
        "admit_mask=df['chance of admit'] > 0.7\n",
        "admit_mask"
      ]
    },
    {
      "cell_type": "markdown",
      "id": "4c949ea9",
      "metadata": {},
      "source": [
        "__Important__ The result of broadcasting a comparison\n",
        "operator is a Boolean mask - true or false values depending upon the results of the comparison. Underneath, pandas is applying the comparison operator you specified through vectorization (so efficiently and in\n",
        "parallel) to all of the values in the array you specified which, in this case, is the `chance of admit` column of the dataframe. The result is a series, since only one column is being operator on, filled with\n",
        "either True or False values, which is what the comparison operator returns.\n",
        "\n",
        "What do we do with the boolean mask once we have formed it?\n",
        "\n",
        "We can apply it on top of the data to \"hide\" the data we don't want, which is represented by all of the False values. We do this by using\n",
        "the .where() function on the original DataFrame."
      ]
    },
    {
      "cell_type": "code",
      "execution_count": null,
      "id": "2fa1d528",
      "metadata": {},
      "outputs": [],
      "source": [
        "df.where(admit_mask).head()"
      ]
    },
    {
      "cell_type": "markdown",
      "id": "ea8f48bc",
      "metadata": {},
      "source": [
        "We see that the resulting data frame keeps the original indexed values, and only data which met \n",
        "the condition was retained. All of the rows which did not meet the condition have NaN data instead,\n",
        "but these rows were not dropped from our dataset. \n",
        "\n",
        "The next step is, if we don't want the NaN data, we use the dropna() function"
      ]
    },
    {
      "cell_type": "code",
      "execution_count": null,
      "id": "64643c36",
      "metadata": {},
      "outputs": [],
      "source": [
        "df.where(admit_mask).dropna().head()"
      ]
    },
    {
      "cell_type": "markdown",
      "id": "0861881c",
      "metadata": {},
      "source": [
        "The returned DataFrame now has all of the NaN rows dropped. Notice the index now includes\n",
        "one through four and six, but not five.\n",
        "\n",
        "Despite being really handy, where() isn't actually used that often. Instead, the pandas devs\n",
        "created a shorthand syntax which combines where() and dropna(), doing both at once. And, in\n",
        "typical fashion, the just overloaded the indexing operator to do this!"
      ]
    },
    {
      "cell_type": "code",
      "execution_count": null,
      "id": "f4ea0e0c",
      "metadata": {},
      "outputs": [],
      "source": [
        "df[df['chance of admit'] > 0.7].head()"
      ]
    },
    {
      "cell_type": "markdown",
      "id": "6e5da492",
      "metadata": {},
      "source": [
        "It might take time to get used to this \"pattern\", but it is more common when you're reading other people's code, so it's important to be able to understand it. Just reviewing this indexing operator on DataFrame, it now does two things:\n",
        "\n",
        "It can be called with a string parameter to project a single column"
      ]
    },
    {
      "cell_type": "code",
      "execution_count": null,
      "id": "4d17cd38",
      "metadata": {},
      "outputs": [],
      "source": [
        "df[\"gre score\"].head()"
      ]
    },
    {
      "cell_type": "code",
      "execution_count": null,
      "id": "f335e175",
      "metadata": {},
      "outputs": [],
      "source": [
        "# Or you can send it a list of columns as strings\n",
        "df[[\"gre score\",\"toefl score\"]].head()"
      ]
    },
    {
      "cell_type": "code",
      "execution_count": null,
      "id": "1c2977fd",
      "metadata": {},
      "outputs": [],
      "source": [
        "# Or you can send it a boolean mask\n",
        "df[df[\"gre score\"]>320].head()"
      ]
    },
    {
      "cell_type": "markdown",
      "id": "9c0d1c2d",
      "metadata": {},
      "source": [
        "And each of these is mimicking functionality from either .loc() or .where().dropna().\n",
        "\n",
        "Before we leave this, lets talk about combining multiple boolean masks, such as multiple criteria for\n",
        "including. In bitmasking in other places in computer science this is done with \"and\", if both masks must be\n",
        "True for a True value to be in the final mask), or \"or\" if only one needs to be True.\n",
        "\n",
        "Unfortunately, it doesn't feel quite as natural in pandas. For instance, if we want to take two boolean\n",
        "series and `and` them together, we get an error:"
      ]
    },
    {
      "cell_type": "code",
      "execution_count": null,
      "id": "b7a6972a",
      "metadata": {
        "tags": [
          "raises-exception"
        ]
      },
      "outputs": [],
      "source": [
        "(df['chance of admit'] > 0.7) and (df['chance of admit'] < 0.9)"
      ]
    },
    {
      "cell_type": "markdown",
      "id": "06e306a0",
      "metadata": {},
      "source": [
        "This doesn't work. The problem is that python underneath doesn't know how to compare two series using `and` or `or`. Instead, the pandas authors have overwritten the pipe `|` and ampersand `&` operators to handle this for us"
      ]
    },
    {
      "cell_type": "code",
      "execution_count": null,
      "id": "9cbc1e34",
      "metadata": {},
      "outputs": [],
      "source": [
        "(df['chance of admit'] > 0.7) & (df['chance of admit'] < 0.9)"
      ]
    },
    {
      "cell_type": "markdown",
      "id": "be4f92f6",
      "metadata": {},
      "source": [
        "One thing to watch out for is order of operations (as controlled by parentheses)! A common error for new pandas users is to try and do boolean comparisons using the & operator but not putting parentheses around\n",
        "the individual terms you are interested in. The following code causes an error:"
      ]
    },
    {
      "cell_type": "code",
      "execution_count": null,
      "id": "13637504",
      "metadata": {
        "tags": [
          "raises-exception"
        ]
      },
      "outputs": [],
      "source": [
        "df['chance of admit'] > 0.7 & df['chance of admit'] < 0.9"
      ]
    },
    {
      "cell_type": "markdown",
      "id": "1f61149f",
      "metadata": {},
      "source": [
        "The problem is that Python is trying to bitwise `and` a 0.7 and a pandas dataframe, when you really want to bitwise `and` the broadcasted dataframes together.\n",
        "\n",
        "Another way to do this is to just get rid of the comparison operator completely, and instead use the built in functions which mimic this approach."
      ]
    },
    {
      "cell_type": "code",
      "execution_count": null,
      "id": "9c08bac2",
      "metadata": {},
      "outputs": [],
      "source": [
        "df['chance of admit'].gt(0.7) & df['chance of admit'].lt(0.9)"
      ]
    },
    {
      "cell_type": "markdown",
      "id": "0c42623d",
      "metadata": {},
      "source": [
        "These functions are built right into the Series and DataFrame objects, so you can chain them too, which results in the same answer and the use of no visual operators. You can decide what looks best for you"
      ]
    },
    {
      "cell_type": "code",
      "execution_count": null,
      "id": "d5e5a622",
      "metadata": {},
      "outputs": [],
      "source": [
        "df['chance of admit'].gt(0.7).lt(0.9)"
      ]
    },
    {
      "cell_type": "markdown",
      "id": "b3600eb8",
      "metadata": {},
      "source": [
        "This only works if the operator, such as less than or greater than, is built into the DataFrame, but it is very readable compared to use of ampersands and parentheses...\n",
        "\n",
        "Students need to be able to read and write all of these, and to understand the implications because these features will be used heavily in data manipulation for machine learning.\n",
        "\n",
        "# Summary\n",
        "\n",
        "We have learned to query dataframes using boolean masking, which is extremely important and often used. With boolean masking, we can select data based on the criteria we desire. We have also seen how there are many different ways to query the DataFrame, and implications of each."
      ]
    },
    {
      "cell_type": "code",
      "execution_count": null,
      "id": "4d68627c",
      "metadata": {},
      "outputs": [],
      "source": []
    }
  ],
  "metadata": {
    "kernelspec": {
      "display_name": "Python 3 (ipykernel)",
      "language": "python",
      "name": "python3"
    }
  },
  "nbformat": 4,
  "nbformat_minor": 5
}
