{
  "cells": [
    {
      "cell_type": "markdown",
      "id": "951aa5c0",
      "metadata": {},
      "source": [
        "# The `DataFrame`\n",
        "\n",
        "The DataFrame data structure is the heart of the Panda's library. It's a primary object that you'll be working  with in data analysis and cleaning tasks.\n",
        "\n",
        "The DataFrame is conceptually a two-dimensional series object, where there's an index and multiple columns of  content, with each column having a label. In fact, the distinction between a column and a row is really only a  conceptual distinction. And you can think of the DataFrame itself as simply a two-axes labeled array."
      ]
    },
    {
      "cell_type": "code",
      "execution_count": null,
      "id": "cd7f91eb",
      "metadata": {},
      "outputs": [],
      "source": [
        "# Lets start by importing our pandas library\n",
        "import pandas as pd"
      ]
    },
    {
      "cell_type": "markdown",
      "id": "52a01633",
      "metadata": {},
      "source": [
        "We create three school records for students and their \n",
        "class grades. Each record is a series which has a student name, the class name, and the score."
      ]
    },
    {
      "cell_type": "code",
      "execution_count": null,
      "id": "eee1a627",
      "metadata": {},
      "outputs": [],
      "source": [
        "record1 = pd.Series({'Name': 'Alice',\n",
        "                        'Class': 'Programming',\n",
        "                        'Score': 85})\n",
        "record2 = pd.Series({'Name': 'Bob',\n",
        "                        'Class': 'Cryptography',\n",
        "                        'Score': 82})\n",
        "record3 = pd.Series({'Name': 'Carol',\n",
        "                        'Class': 'Networking',\n",
        "                        'Score': 90})"
      ]
    },
    {
      "cell_type": "markdown",
      "id": "9a11eac7",
      "metadata": {},
      "source": [
        "Like a Series, the DataFrame object is index. Here we use a group of series, where each series \n",
        "represents a row of data. Just like the Series function, we can pass in our individual items\n",
        "in an array, and we can pass in our index values as a second arguments"
      ]
    },
    {
      "cell_type": "code",
      "execution_count": null,
      "id": "68b45401",
      "metadata": {},
      "outputs": [],
      "source": [
        "df = pd.DataFrame([record1, record2, record3],\n",
        "                  index=['stream1', 'stream2', 'stream1'])\n",
        "\n",
        "# And just like the Series we can use the head() function to see the first several rows of the\n",
        "# dataframe, including indices from both axes, and we can use this to verify the columns and the rows\n",
        "df.head()"
      ]
    },
    {
      "cell_type": "markdown",
      "id": "1b005a9b",
      "metadata": {},
      "source": [
        "Note that Jupyter formats the output with HTML to render the results of the\n",
        "dataframe. So we have the index, which is the leftmost column and is the school name, and then we have the rows of data, where each row has a column header which was given in our initial record dictionaries.\n",
        "\n",
        "An alternative method is that you could use a list of dictionaries, where each dictionary \n",
        "represents a row of data."
      ]
    },
    {
      "cell_type": "code",
      "execution_count": null,
      "id": "1d1d81c4",
      "metadata": {},
      "outputs": [],
      "source": [
        "students = [{'Name': 'Alice',\n",
        "              'Class': 'Programming',\n",
        "              'Score': 85},\n",
        "            {'Name': 'Bob',\n",
        "             'Class': 'Cryptography',\n",
        "             'Score': 82},\n",
        "            {'Name': 'Carol',\n",
        "             'Class': 'Networking',\n",
        "             'Score': 90}]\n",
        "\n",
        "# Then we pass this list of dictionaries into the DataFrame function\n",
        "df = pd.DataFrame(students, index=['stream1', 'stream2', 'stream1']) \n",
        "# And lets print the head again\n",
        "df.head()"
      ]
    },
    {
      "cell_type": "markdown",
      "id": "276cb3da",
      "metadata": {},
      "source": [
        "Similar to the series, we can extract data using the `.iloc` and `.loc` attributes. Because the DataFrame is two-dimensional, passing a single value to the loc indexing operator will return the series if there's only one row to return.\n",
        "\n",
        "For instance, if we wanted to select data associated with stream2, we would just query the `.loc` attribute with one parameter."
      ]
    },
    {
      "cell_type": "code",
      "execution_count": null,
      "id": "5400c300",
      "metadata": {},
      "outputs": [],
      "source": [
        "df.loc['stream2']"
      ]
    },
    {
      "cell_type": "markdown",
      "id": "843515d9",
      "metadata": {},
      "source": [
        "You'll note that the name of the series is returned as the index value, while the column \n",
        "name is included in the output.\n",
        "\n",
        "We can check the data type of the return using the python type function."
      ]
    },
    {
      "cell_type": "code",
      "execution_count": null,
      "id": "07584655",
      "metadata": {},
      "outputs": [],
      "source": [
        "type(df.loc['stream2'])"
      ]
    },
    {
      "cell_type": "markdown",
      "id": "38ae2d78",
      "metadata": {},
      "source": [
        "It's important to remember that the index values and column names along either axes, horizontal or vertical, could be non-unique. In this example, we see two records for school1 as different rows.\n",
        "\n",
        "If we use a single value with the DataFrame `.loc` attribute, multiple rows of the DataFrame will return, not as a new series, but as a new DataFrame.\n",
        "\n",
        "Lets query for stream1 records"
      ]
    },
    {
      "cell_type": "code",
      "execution_count": null,
      "id": "9545d14f",
      "metadata": {},
      "outputs": [],
      "source": [
        "df.loc['stream1']"
      ]
    },
    {
      "cell_type": "code",
      "execution_count": null,
      "id": "6f021064",
      "metadata": {},
      "outputs": [],
      "source": [
        "# And we can see the the type of this is different too\n",
        "type(df.loc['stream1'])"
      ]
    },
    {
      "cell_type": "markdown",
      "id": "b755d547",
      "metadata": {},
      "source": [
        "It is easy to select data from a dataframe based on multiple axes. For instance, if we wanted to just list the student names for stream1, we would supply two arguments to `.loc`, one being the row index and the second being the column name.\n",
        "\n",
        "For instance, if we are only interested in stream1's student names"
      ]
    },
    {
      "cell_type": "code",
      "execution_count": null,
      "id": "a2eecc8b",
      "metadata": {},
      "outputs": [],
      "source": [
        "df.loc['stream1', 'Name']"
      ]
    },
    {
      "cell_type": "markdown",
      "id": "93eff047",
      "metadata": {},
      "source": [
        "Remember, just like the Series, the pandas developers have implemented this using the indexing operator `.loc[..]` and not as parameters to a function.\n",
        "\n",
        "What would we do if we just wanted to select a single column though? \n",
        "\n",
        "The first way is to transpose the dataframe and apply row operations. This pivots all of the rows into columns and all of the columns into rows, and is done with the `.T` attribute"
      ]
    },
    {
      "cell_type": "code",
      "execution_count": null,
      "id": "ed52087e",
      "metadata": {},
      "outputs": [],
      "source": [
        "df.T"
      ]
    },
    {
      "cell_type": "code",
      "execution_count": null,
      "id": "eb90f52b",
      "metadata": {},
      "outputs": [],
      "source": [
        "# Then we can call .loc on the transpose to get the student names only\n",
        "df.T.loc['Name']"
      ]
    },
    {
      "cell_type": "markdown",
      "id": "a54fe221",
      "metadata": {},
      "source": [
        "However, since `iloc` and `loc` are used for row selection, Panda reserves the indexing operator directly on the DataFrame for column selection. In a Panda's DataFrame, columns always have a name.\n",
        "\n",
        "So this selection is always label based, and is not as confusing as it was when using the square bracket operator on the series objects. For those familiar with relational databases, this operator is analogous to column projection."
      ]
    },
    {
      "cell_type": "code",
      "execution_count": null,
      "id": "95e96234",
      "metadata": {},
      "outputs": [],
      "source": [
        "df['Name']"
      ]
    },
    {
      "cell_type": "markdown",
      "id": "8d396c00",
      "metadata": {},
      "source": [
        "In practice, this works really well since you're often trying to add or drop new columns. However,\n",
        "this also means that you get a key error if you try and use .loc with a column name"
      ]
    },
    {
      "cell_type": "code",
      "execution_count": null,
      "id": "5acc9508",
      "metadata": {
        "tags": [
          "raises-exception"
        ]
      },
      "outputs": [],
      "source": [
        "df.loc['Name']"
      ]
    },
    {
      "cell_type": "markdown",
      "id": "c3ade230",
      "metadata": {},
      "source": [
        "Note too that the result of a single column projection is a Series object"
      ]
    },
    {
      "cell_type": "code",
      "execution_count": null,
      "id": "9a6ad7dc",
      "metadata": {},
      "outputs": [],
      "source": [
        "type(df['Name'])"
      ]
    },
    {
      "cell_type": "markdown",
      "id": "980b15b1",
      "metadata": {},
      "source": [
        "Since the result of using the indexing operator is either a DataFrame or Series, you can chain operations together. For instance, we can select all of the rows which related to stream1 using `.loc`, then project the name column from just those rows."
      ]
    },
    {
      "cell_type": "code",
      "execution_count": null,
      "id": "1c307f2b",
      "metadata": {},
      "outputs": [],
      "source": [
        "df.loc['stream1']['Name']"
      ]
    },
    {
      "cell_type": "markdown",
      "id": "bade6500",
      "metadata": {},
      "source": [
        "If you get confused, use `type()` to check the responses from resulting operations\n"
      ]
    },
    {
      "cell_type": "code",
      "execution_count": null,
      "id": "94e006c4",
      "metadata": {},
      "outputs": [],
      "source": [
        "print(type(df.loc['stream1'])) #should be a DataFrame\n",
        "print(type(df.loc['stream1']['Name'])) #should be a Series"
      ]
    },
    {
      "cell_type": "markdown",
      "id": "e60a8eb9",
      "metadata": {},
      "source": [
        "Chaining, by indexing on the return type of another index, can come with some costs and is best avoided if you can use another approach. In particular, chaining tends to cause Pandas to return a copy of the DataFrame instead of a view on the DataFrame. For selecting data, this is not a big deal, though it might be slower than necessary. If you are changing data though this is an important distinction and can be a source of error.\n",
        "\n",
        "Here's another approach. As we saw, .loc does row selection, and it can take two parameters, the row index and the list of column names. The .loc attribute also supports slicing.\n",
        "\n",
        "If we wanted to select all rows, we can use a colon to indicate a full slice from beginning to end. This is just like slicing characters in a list in python. Then we can add the column name as the second parameter as a string. If we wanted to include multiple columns, we could do so in a list. \n",
        "and Pandas will bring back only the columns we have asked for.\n",
        "\n",
        "Here's an example, where we ask for all the names and scores for all streams using the .loc operator."
      ]
    },
    {
      "cell_type": "code",
      "execution_count": null,
      "id": "d410239e",
      "metadata": {},
      "outputs": [],
      "source": [
        "df.loc[:,['Name', 'Score']]"
      ]
    },
    {
      "cell_type": "markdown",
      "id": "6600037d",
      "metadata": {},
      "source": [
        "Note that the colon means that we want to get all of the rows, and the list\n",
        "in the second argument position is the list of columns we want to get back\n",
        "\n",
        "That's selecting and projecting data from a DataFrame based on row and column labels. The key concepts to remember are that the rows and columns are really just for our benefit. Underneath this is just a two axes labeled array, and transposing the columns is easy. Also, consider the issue of chaining carefully, and try to avoid it, as it can cause unpredictable results, where your intent was to obtain a view of the data, but instead Pandas returns to you a copy. \n",
        "\n",
        "Before we leave the discussion of accessing data in DataFrames, lets talk about dropping data. It's easy to delete data in Series and DataFrames, and we can use the drop function to do so. This function takes a single parameter, which is the index or row label, to drop. This is another \n",
        "tricky place for new users -- the drop function doesn't change the DataFrame by default! Instead, the drop function returns to you a copy of the DataFrame with the given rows removed."
      ]
    },
    {
      "cell_type": "code",
      "execution_count": null,
      "id": "d2fbced7",
      "metadata": {},
      "outputs": [],
      "source": [
        "df.drop('stream1')"
      ]
    },
    {
      "cell_type": "markdown",
      "id": "5ec739cc",
      "metadata": {},
      "source": [
        "But if we look at our original DataFrame we see the data is still intact."
      ]
    },
    {
      "cell_type": "code",
      "execution_count": null,
      "id": "8928c81a",
      "metadata": {},
      "outputs": [],
      "source": [
        "df"
      ]
    },
    {
      "cell_type": "markdown",
      "id": "1bfa30b9",
      "metadata": {},
      "source": [
        "Drop has two interesting optional parameters. The first is called inplace, and if it's \n",
        "set to true, the DataFrame will be updated in place, instead of a copy being returned. \n",
        "The second parameter is the axes, which should be dropped. By default, this value is 0, \n",
        "indicating the row axis. But you could change it to 1 if you want to drop a column.\n",
        "\n",
        "For example, lets make a copy of a DataFrame using .copy()"
      ]
    },
    {
      "cell_type": "code",
      "execution_count": null,
      "id": "41a18619",
      "metadata": {},
      "outputs": [],
      "source": [
        "copy_df = df.copy()\n",
        "# Now lets drop the name column in this copy\n",
        "copy_df.drop(\"Name\", inplace=True, axis=1)\n",
        "copy_df"
      ]
    },
    {
      "cell_type": "markdown",
      "id": "d6cd2330",
      "metadata": {},
      "source": [
        "There is a second way to drop a column, and that's directly through the use of the indexing operator, using the `del` keyword. This way of dropping data, however, takes immediate effect on the DataFrame and does not return a view."
      ]
    },
    {
      "cell_type": "code",
      "execution_count": null,
      "id": "365422ad",
      "metadata": {},
      "outputs": [],
      "source": [
        "del copy_df['Class']\n",
        "copy_df"
      ]
    },
    {
      "cell_type": "markdown",
      "id": "bb58b895",
      "metadata": {},
      "source": [
        "Finally, adding a new column to the DataFrame is as easy as assigning it to some value using\n",
        "the indexing operator. For instance, if we wanted to add a class ranking column with default \n",
        "value of None, we could do so by using the assignment operator after the square brackets.\n",
        "This broadcasts the default value to the new column immediately."
      ]
    },
    {
      "cell_type": "code",
      "execution_count": null,
      "id": "2248aa85",
      "metadata": {},
      "outputs": [],
      "source": [
        "df['ClassRanking'] = None\n",
        "df"
      ]
    },
    {
      "cell_type": "markdown",
      "id": "5a92b884",
      "metadata": {},
      "source": [
        "# Summary\n",
        "\n",
        "We have learned about the data structure we will use the most in pandas, the DataFrame. The  dataframe is indexed both by row and column, and we can easily select individual rows and project the columns we are interested in using the familiar indexing methods from the Series class."
      ]
    },
    {
      "cell_type": "code",
      "execution_count": null,
      "id": "1a4838ef",
      "metadata": {},
      "outputs": [],
      "source": []
    }
  ],
  "metadata": {
    "kernelspec": {
      "display_name": "Python 3 (ipykernel)",
      "language": "python",
      "name": "python3"
    }
  },
  "nbformat": 4,
  "nbformat_minor": 5
}
