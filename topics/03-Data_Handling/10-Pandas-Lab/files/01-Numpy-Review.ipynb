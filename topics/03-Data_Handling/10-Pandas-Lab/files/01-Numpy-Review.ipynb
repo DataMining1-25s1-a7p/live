{
 "cells": [
  {
   "cell_type": "markdown",
   "id": "4b5e0ed7",
   "metadata": {},
   "source": [
    "# NumPy\n",
    "\n",
    "\n",
    "<a id='index-1'></a>"
   ]
  },
  {
   "cell_type": "markdown",
   "id": "b9d8dd0c",
   "metadata": {},
   "source": [
    "## Overview\n",
    "\n",
    "Recall that [NumPy](https://numpy.org/) is a library used for numerical programming and, for data science purposes, we are particularly interested in its extensiove support for array. It is widely used in academia, finance and industry, and is also mature, fast, stable and under continuous development.  \n",
    "\n",
    "\n",
    "In this notebook we will review the parts of numpy that are most relevant to this module: its support for arrays, which goes way beyond what is included in base python.\n",
    "\n",
    "### References\n",
    "\n",
    "- [The notebook shared in class](https://datamining-2023s1-g8s0.github.io/live/topics/03-Data_Handling/01-Python-Numpy/files/introToNumpy.ipynb)\n",
    "- [The official NumPy documentation](https://numpy.org/doc/stable/reference/).  \n"
   ]
  },
  {
   "cell_type": "markdown",
   "id": "f7374509",
   "metadata": {},
   "source": [
    "## NumPy reminder\n",
    "\n",
    "The essential problem that NumPy solves is fast array processing.\n",
    "\n",
    "The most important structure that NumPy defines is an array data type formally called a [numpy.ndarray](http://docs.scipy.org/doc/numpy/reference/arrays.ndarray.html).\n",
    "\n",
    "NumPy arrays power a large proportion of the scientific Python ecosystem.\n",
    "\n",
    "Let’s first import the library."
   ]
  },
  {
   "cell_type": "code",
   "execution_count": 1,
   "id": "ac49b76b",
   "metadata": {
    "execution": {
     "iopub.execute_input": "2025-09-23T08:05:14.436539Z",
     "iopub.status.busy": "2025-09-23T08:05:14.436196Z",
     "iopub.status.idle": "2025-09-23T08:05:14.588705Z",
     "shell.execute_reply": "2025-09-23T08:05:14.587728Z"
    },
    "hide-output": false
   },
   "outputs": [],
   "source": [
    "import numpy as np"
   ]
  },
  {
   "cell_type": "markdown",
   "id": "6913b6b9",
   "metadata": {},
   "source": [
    "## Exercises\n",
    "\n",
    "\n",
    "<a id='np-ex1'></a>"
   ]
  },
  {
   "cell_type": "markdown",
   "id": "181c160d",
   "metadata": {},
   "source": [
    "### Exercise 1\n",
    "\n",
    "Create a 3x3 (3 rows, 3 columns) array containing the 9 integers 1 .. 9.\n",
    "\n",
    "1. Extract the following parts of the matrix a:\n",
    "\n",
    "- the second row\n",
    "- the third colum\n",
    "- the top left element\n",
    "\n",
    "2. How do we get the type and dimensions of a?\n",
    "\n",
    "3. Compute the following:\n",
    "\n",
    "- the average (arithmetic mean) of the first row\n",
    "- the sum of the second column\n",
    "- the (elementwise) _multiplicative inverse_ of the elements in a (recall that, if $a_{ij}$ is an element of a, its multiplicative inverse is $\\frac{1}{a_{ij}}$).\n",
    "\n",
    "4. How do we find the elements of a that are greater than or equal to 5?"
   ]
  },
  {
   "cell_type": "markdown",
   "id": "4ced1b43",
   "metadata": {},
   "source": [
    "### Exercise 2\n",
    "\n",
    "1. Generate the following arrays\n",
    "\n",
    "- a matrix a of zeros with 2 rows and 3 columns\n",
    "- a matrix b of ones with the same dimensions, but the elements are integers\n",
    "- a random matrix c, whose elements are randomly distributed in [0,1], with the same dimensions\n",
    "- the transpose of c, d\n",
    "- the matrix product, e, of c and d\n",
    "- 11 linearly spaced floating numbers between 1 and 2\n",
    "\n",
    "2. Explain what happens in the following: `c1 = zeros(3); c2 = c1; c2[0] = 1`.\n",
    "\n",
    "3. In the matrix c above, find the row having the largest value in the 3rd column."
   ]
  }
 ],
 "metadata": {
  "jupytext": {
   "formats": "ipynb,py:percent"
  },
  "kernelspec": {
   "display_name": "Python 3 (ipykernel)",
   "language": "python",
   "name": "python3"
  },
  "language_info": {
   "codemirror_mode": {
    "name": "ipython",
    "version": 3
   },
   "file_extension": ".py",
   "mimetype": "text/x-python",
   "name": "python",
   "nbconvert_exporter": "python",
   "pygments_lexer": "ipython3",
   "version": "3.12.0"
  }
 },
 "nbformat": 4,
 "nbformat_minor": 5
}
